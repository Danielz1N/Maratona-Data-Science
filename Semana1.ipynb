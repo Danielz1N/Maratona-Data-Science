{
 "cells": [
  {
   "cell_type": "markdown",
   "metadata": {},
   "source": [
    "<h1>Semana 1 - Maratona Data Science - Exercicios Neps Academy</h1>"
   ]
  },
  {
   "cell_type": "markdown",
   "metadata": {},
   "source": [
    "<h2>1. Soma</h2>"
   ]
  },
  {
   "cell_type": "code",
   "execution_count": null,
   "metadata": {},
   "outputs": [],
   "source": [
    "X = int(input())\n",
    "Y = int(input())\n",
    "print(X + Y)"
   ]
  },
  {
   "cell_type": "markdown",
   "metadata": {},
   "source": [
    "<h2>2. Divisão"
   ]
  },
  {
   "cell_type": "code",
   "execution_count": null,
   "metadata": {},
   "outputs": [],
   "source": [
    "X = float(input())\n",
    "Y = float(input())\n",
    "print(round((X/Y),2))"
   ]
  },
  {
   "cell_type": "markdown",
   "metadata": {},
   "source": [
    "## 3. Flíper"
   ]
  },
  {
   "cell_type": "code",
   "execution_count": null,
   "metadata": {},
   "outputs": [],
   "source": [
    "P,R = map(int,input().split())\n",
    "if(P==0):\n",
    "    print('C')\n",
    "elif(P==1 and R==0):\n",
    "    print('B')\n",
    "else:\n",
    "    print('A')"
   ]
  },
  {
   "cell_type": "markdown",
   "metadata": {},
   "source": [
    "## 4. Aprovado ou Reprovado"
   ]
  },
  {
   "cell_type": "code",
   "execution_count": null,
   "metadata": {},
   "outputs": [],
   "source": [
    "a,b = map(float,input().split())\n",
    "media = (a+b)/2\n",
    "if(media >= 7):\n",
    "    print('Aprovado')\n",
    "elif(media >= 4):\n",
    "    print('Recuperacao')\n",
    "else:\n",
    "    print('Reprovado')"
   ]
  },
  {
   "cell_type": "markdown",
   "metadata": {},
   "source": [
    "## 5. Zerinho ou um"
   ]
  },
  {
   "cell_type": "code",
   "execution_count": null,
   "metadata": {},
   "outputs": [],
   "source": [
    "a,b,c = map(int,input().split())\n",
    "if(a != b and a != c):\n",
    "    print('A')\n",
    "elif(b != a and b != c):\n",
    "    print('B')\n",
    "elif(c != a and c != b):\n",
    "    print('C')\n",
    "else:\n",
    "    print('*')"
   ]
  },
  {
   "cell_type": "markdown",
   "metadata": {},
   "source": [
    "## 6. Soma dos Elementos"
   ]
  },
  {
   "cell_type": "code",
   "execution_count": null,
   "metadata": {},
   "outputs": [],
   "source": [
    "N = int(input())\n",
    "soma = sum(map(int,input().split()))\n",
    "print(soma)"
   ]
  },
  {
   "cell_type": "markdown",
   "metadata": {},
   "source": [
    "## 7. Prêmio do Milhão"
   ]
  },
  {
   "cell_type": "code",
   "execution_count": null,
   "metadata": {},
   "outputs": [],
   "source": [
    "N = int(input())\n",
    "soma = 0\n",
    "dias = 0\n",
    "V = []\n",
    "for i in range(N):\n",
    "    V.append(int(input()))\n",
    "while soma < 1000000:\n",
    "    soma += V[dias]\n",
    "    dias += 1\n",
    "print(dias)"
   ]
  },
  {
   "cell_type": "markdown",
   "metadata": {},
   "source": [
    "## 8. Lâmpadas"
   ]
  },
  {
   "cell_type": "code",
   "execution_count": null,
   "metadata": {},
   "outputs": [],
   "source": [
    "N = int(input())\n",
    "L = input().split()\n",
    "a = 0\n",
    "b = 0\n",
    "for i in range(N):\n",
    "    if L[i] == '1':\n",
    "        if a == 0:\n",
    "            a = 1\n",
    "        else:\n",
    "            a = 0\n",
    "    else:\n",
    "        if a == 1:\n",
    "            if b == 0:\n",
    "                a = 0\n",
    "                b = 1\n",
    "            else:\n",
    "                a = 0\n",
    "                b = 0\n",
    "        else:\n",
    "            if b == 0:\n",
    "                a = 1\n",
    "                b = 1\n",
    "            else:\n",
    "                a = 1\n",
    "                b = 0\n",
    "print(a)\n",
    "print(b)"
   ]
  },
  {
   "cell_type": "markdown",
   "metadata": {},
   "source": [
    "## 9. Vestibular"
   ]
  },
  {
   "cell_type": "code",
   "execution_count": null,
   "metadata": {},
   "outputs": [],
   "source": [
    "N = int(input())\n",
    "G = input()\n",
    "C = input()\n",
    "resultado = 0\n",
    "for i in range(N):\n",
    "    if(G[i] == C[i]):\n",
    "        resultado += 1\n",
    "print(resultado)"
   ]
  },
  {
   "cell_type": "markdown",
   "metadata": {},
   "source": [
    "## 10. Huaauhahhuahau"
   ]
  },
  {
   "cell_type": "code",
   "execution_count": null,
   "metadata": {},
   "outputs": [],
   "source": [
    "R = input()\n",
    "vogals = [x  for x in R if x in \"aeiou\"]\n",
    "if(vogals == vogals[::-1]):\n",
    "    print('S')\n",
    "else:\n",
    "    print('N')"
   ]
  },
  {
   "cell_type": "markdown",
   "metadata": {},
   "source": [
    "## 11. Raizes"
   ]
  },
  {
   "cell_type": "code",
   "execution_count": null,
   "metadata": {},
   "outputs": [],
   "source": [
    "N = int(input())\n",
    "V = input().split()\n",
    "for i in range(N):\n",
    "    print(\"{:.4f}\".format(float(V[i]) ** 0.5))"
   ]
  },
  {
   "cell_type": "markdown",
   "metadata": {},
   "source": [
    "## 12. Potência Simples"
   ]
  },
  {
   "cell_type": "code",
   "execution_count": null,
   "metadata": {},
   "outputs": [],
   "source": [
    "V = input().split()\n",
    "print(\"{:.4f}\".format(float(V[0]) ** float(V[1])))"
   ]
  },
  {
   "cell_type": "markdown",
   "metadata": {},
   "source": [
    "## 13. Função Fatorial"
   ]
  },
  {
   "cell_type": "code",
   "execution_count": null,
   "metadata": {},
   "outputs": [],
   "source": [
    "def fatorial(N):\n",
    "    if N == 0:\n",
    "        return 1\n",
    "    else:\n",
    "        return N * fatorial(N-1)\n",
    "N = int(input())\n",
    "print(fatorial(N))"
   ]
  },
  {
   "cell_type": "markdown",
   "metadata": {},
   "source": [
    "## 14. Função Primo"
   ]
  },
  {
   "cell_type": "code",
   "execution_count": null,
   "metadata": {},
   "outputs": [],
   "source": [
    "def eh_primo(x):\n",
    "    result = False\n",
    "    for i in range(x-1,1,-1):\n",
    "        if (x % i) == 0:\n",
    "            result = False\n",
    "            break\n",
    "        else:\n",
    "            result = True   \n",
    "    return result\n",
    "x = int(input())\n",
    "if eh_primo(x):\n",
    "    print('S')\n",
    "else:\n",
    "    print('N')"
   ]
  },
  {
   "cell_type": "markdown",
   "metadata": {},
   "source": [
    "## 15. Ordenação Simples"
   ]
  },
  {
   "cell_type": "code",
   "execution_count": null,
   "metadata": {},
   "outputs": [],
   "source": [
    "N = int(input())\n",
    "L = sorted(list(map(int, input().split())))\n",
    "for i in range(N):\n",
    "    print(L[i],end=' ')"
   ]
  }
 ],
 "metadata": {
  "kernelspec": {
   "display_name": "Python 3",
   "language": "python",
   "name": "python3"
  },
  "language_info": {
   "codemirror_mode": {
    "name": "ipython",
    "version": 3
   },
   "file_extension": ".py",
   "mimetype": "text/x-python",
   "name": "python",
   "nbconvert_exporter": "python",
   "pygments_lexer": "ipython3",
   "version": "3.7.0"
  }
 },
 "nbformat": 4,
 "nbformat_minor": 2
}
