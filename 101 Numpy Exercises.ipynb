{
 "cells": [
  {
   "cell_type": "markdown",
   "metadata": {},
   "source": [
    "Import Numpy as np and see the version"
   ]
  },
  {
   "cell_type": "code",
   "execution_count": 1,
   "metadata": {},
   "outputs": [
    {
     "data": {
      "text/plain": [
       "'1.15.1'"
      ]
     },
     "execution_count": 1,
     "metadata": {},
     "output_type": "execute_result"
    }
   ],
   "source": [
    "import numpy as np\n",
    "np.__version__"
   ]
  },
  {
   "cell_type": "markdown",
   "metadata": {},
   "source": [
    "Create a 1D array of numbers from 0 to 9"
   ]
  },
  {
   "cell_type": "code",
   "execution_count": 2,
   "metadata": {},
   "outputs": [
    {
     "data": {
      "text/plain": [
       "array([0, 1, 2, 3, 4, 5, 6, 7, 8, 9])"
      ]
     },
     "execution_count": 2,
     "metadata": {},
     "output_type": "execute_result"
    }
   ],
   "source": [
    "np.arange(10)"
   ]
  },
  {
   "cell_type": "markdown",
   "metadata": {},
   "source": [
    "Create a 3x3 numpy array of all True's"
   ]
  },
  {
   "cell_type": "code",
   "execution_count": 3,
   "metadata": {},
   "outputs": [
    {
     "data": {
      "text/plain": [
       "array([[ True,  True,  True],\n",
       "       [ True,  True,  True],\n",
       "       [ True,  True,  True]])"
      ]
     },
     "execution_count": 3,
     "metadata": {},
     "output_type": "execute_result"
    }
   ],
   "source": [
    "np.ones((3,3), np.bool)"
   ]
  },
  {
   "cell_type": "markdown",
   "metadata": {},
   "source": [
    "Extract all odd numbers from arr"
   ]
  },
  {
   "cell_type": "code",
   "execution_count": 4,
   "metadata": {},
   "outputs": [],
   "source": [
    "arr = np.arange(10)"
   ]
  },
  {
   "cell_type": "code",
   "execution_count": 5,
   "metadata": {},
   "outputs": [
    {
     "data": {
      "text/plain": [
       "array([1, 3, 5, 7, 9])"
      ]
     },
     "execution_count": 5,
     "metadata": {},
     "output_type": "execute_result"
    }
   ],
   "source": [
    "arr[arr % 2 != 0]"
   ]
  },
  {
   "cell_type": "markdown",
   "metadata": {},
   "source": [
    "Replace all odd numbers in arr with -1"
   ]
  },
  {
   "cell_type": "code",
   "execution_count": 6,
   "metadata": {},
   "outputs": [],
   "source": [
    "arr = np.arange(10)"
   ]
  },
  {
   "cell_type": "code",
   "execution_count": 7,
   "metadata": {},
   "outputs": [
    {
     "data": {
      "text/plain": [
       "array([ 0, -1,  2, -1,  4, -1,  6, -1,  8, -1])"
      ]
     },
     "execution_count": 7,
     "metadata": {},
     "output_type": "execute_result"
    }
   ],
   "source": [
    "arr[arr % 2 != 0] = -1\n",
    "arr"
   ]
  },
  {
   "cell_type": "markdown",
   "metadata": {},
   "source": [
    "Replace all odd numbers in arr with -1 without changing arr"
   ]
  },
  {
   "cell_type": "code",
   "execution_count": 8,
   "metadata": {},
   "outputs": [],
   "source": [
    "arr = np.arange(10)"
   ]
  },
  {
   "cell_type": "code",
   "execution_count": 9,
   "metadata": {},
   "outputs": [
    {
     "data": {
      "text/plain": [
       "array([ 0, -1,  2, -1,  4, -1,  6, -1,  8, -1])"
      ]
     },
     "execution_count": 9,
     "metadata": {},
     "output_type": "execute_result"
    }
   ],
   "source": [
    "np.where(arr%2==1, -1, arr)"
   ]
  },
  {
   "cell_type": "markdown",
   "metadata": {},
   "source": [
    "Convert a 1D array to a 2D array with 2 rows"
   ]
  },
  {
   "cell_type": "code",
   "execution_count": 10,
   "metadata": {},
   "outputs": [],
   "source": [
    "arr = np.arange(10)"
   ]
  },
  {
   "cell_type": "code",
   "execution_count": 11,
   "metadata": {},
   "outputs": [
    {
     "data": {
      "text/plain": [
       "array([[0, 1, 2, 3, 4],\n",
       "       [5, 6, 7, 8, 9]])"
      ]
     },
     "execution_count": 11,
     "metadata": {},
     "output_type": "execute_result"
    }
   ],
   "source": [
    "arr.reshape(2,-1)"
   ]
  },
  {
   "cell_type": "markdown",
   "metadata": {},
   "source": [
    "Stack array a and b vertically"
   ]
  },
  {
   "cell_type": "code",
   "execution_count": 12,
   "metadata": {},
   "outputs": [],
   "source": [
    "a = np.arange(10).reshape(2,-1)\n",
    "b = np.repeat(1, 10).reshape(2,-1)"
   ]
  },
  {
   "cell_type": "code",
   "execution_count": 13,
   "metadata": {},
   "outputs": [
    {
     "data": {
      "text/plain": [
       "array([[0, 1, 2, 3, 4],\n",
       "       [5, 6, 7, 8, 9],\n",
       "       [1, 1, 1, 1, 1],\n",
       "       [1, 1, 1, 1, 1]])"
      ]
     },
     "execution_count": 13,
     "metadata": {},
     "output_type": "execute_result"
    }
   ],
   "source": [
    "np.vstack((a,b))"
   ]
  },
  {
   "cell_type": "markdown",
   "metadata": {},
   "source": [
    "Stack the arrays a and b horizontally"
   ]
  },
  {
   "cell_type": "code",
   "execution_count": 14,
   "metadata": {},
   "outputs": [],
   "source": [
    "a = np.arange(10).reshape(2,-1)\n",
    "b = np.repeat(1, 10).reshape(2,-1)"
   ]
  },
  {
   "cell_type": "code",
   "execution_count": 15,
   "metadata": {},
   "outputs": [
    {
     "data": {
      "text/plain": [
       "array([[0, 1, 2, 3, 4, 1, 1, 1, 1, 1],\n",
       "       [5, 6, 7, 8, 9, 1, 1, 1, 1, 1]])"
      ]
     },
     "execution_count": 15,
     "metadata": {},
     "output_type": "execute_result"
    }
   ],
   "source": [
    "np.hstack((a,b))"
   ]
  },
  {
   "cell_type": "markdown",
   "metadata": {},
   "source": [
    "Create the following pattern without hardcoding. Use only numpy functions and the below input array a."
   ]
  },
  {
   "cell_type": "code",
   "execution_count": 16,
   "metadata": {},
   "outputs": [],
   "source": [
    "a = np.array([1,2,3])"
   ]
  },
  {
   "cell_type": "code",
   "execution_count": 17,
   "metadata": {},
   "outputs": [
    {
     "data": {
      "text/plain": [
       "array([1, 1, 1, 2, 2, 2, 3, 3, 3, 1, 2, 3, 1, 2, 3, 1, 2, 3])"
      ]
     },
     "execution_count": 17,
     "metadata": {},
     "output_type": "execute_result"
    }
   ],
   "source": [
    "np.concatenate((np.repeat(a,3),np.tile(a,3)))"
   ]
  },
  {
   "cell_type": "markdown",
   "metadata": {},
   "source": [
    "Get the commom items between a and b"
   ]
  },
  {
   "cell_type": "code",
   "execution_count": 18,
   "metadata": {},
   "outputs": [],
   "source": [
    "a = np.array([1,2,3,2,3,4,3,4,5,6])\n",
    "b = np.array([7,2,10,2,7,4,9,4,9,8])"
   ]
  },
  {
   "cell_type": "code",
   "execution_count": 19,
   "metadata": {},
   "outputs": [
    {
     "data": {
      "text/plain": [
       "array([2, 4])"
      ]
     },
     "execution_count": 19,
     "metadata": {},
     "output_type": "execute_result"
    }
   ],
   "source": [
    "np.intersect1d(a,b)"
   ]
  },
  {
   "cell_type": "markdown",
   "metadata": {},
   "source": [
    "From array a remove all items present in array b"
   ]
  },
  {
   "cell_type": "code",
   "execution_count": 20,
   "metadata": {},
   "outputs": [],
   "source": [
    "a = np.array([1,2,3,4,5])\n",
    "b = np.array([5,6,7,8,9])"
   ]
  },
  {
   "cell_type": "code",
   "execution_count": 21,
   "metadata": {},
   "outputs": [
    {
     "data": {
      "text/plain": [
       "array([1, 2, 3, 4])"
      ]
     },
     "execution_count": 21,
     "metadata": {},
     "output_type": "execute_result"
    }
   ],
   "source": [
    "np.setdiff1d(a,b)"
   ]
  },
  {
   "cell_type": "markdown",
   "metadata": {},
   "source": [
    "Get the positions where elements of a and b match"
   ]
  },
  {
   "cell_type": "code",
   "execution_count": 22,
   "metadata": {},
   "outputs": [],
   "source": [
    "a = np.array([1,2,3,2,3,4,3,4,5,6])\n",
    "b = np.array([7,2,10,2,7,4,9,4,9,8])"
   ]
  },
  {
   "cell_type": "code",
   "execution_count": 23,
   "metadata": {},
   "outputs": [
    {
     "data": {
      "text/plain": [
       "(array([1, 3, 5, 7], dtype=int64),)"
      ]
     },
     "execution_count": 23,
     "metadata": {},
     "output_type": "execute_result"
    }
   ],
   "source": [
    "np.where(a==b)"
   ]
  },
  {
   "cell_type": "markdown",
   "metadata": {},
   "source": [
    "Get all items between 5 and 10 from a"
   ]
  },
  {
   "cell_type": "code",
   "execution_count": 24,
   "metadata": {},
   "outputs": [],
   "source": [
    "a = np.array([2,6,1,9,10,3,27])"
   ]
  },
  {
   "cell_type": "code",
   "execution_count": 25,
   "metadata": {},
   "outputs": [
    {
     "data": {
      "text/plain": [
       "array([ 6,  9, 10])"
      ]
     },
     "execution_count": 25,
     "metadata": {},
     "output_type": "execute_result"
    }
   ],
   "source": [
    "a[np.where(np.logical_and(a>=5,a<=10))]"
   ]
  },
  {
   "cell_type": "markdown",
   "metadata": {},
   "source": [
    "Convert the function maxx that works on two scalars, to work on two arrays"
   ]
  },
  {
   "cell_type": "code",
   "execution_count": 26,
   "metadata": {},
   "outputs": [],
   "source": [
    "def maxx(x, y):\n",
    "    return np.maximum(x,y)"
   ]
  },
  {
   "cell_type": "code",
   "execution_count": 27,
   "metadata": {},
   "outputs": [
    {
     "data": {
      "text/plain": [
       "array([6, 7, 9, 8, 9, 7, 5])"
      ]
     },
     "execution_count": 27,
     "metadata": {},
     "output_type": "execute_result"
    }
   ],
   "source": [
    "a = np.array([5, 7, 9, 8, 6, 4, 5])\n",
    "b = np.array([6, 3, 4, 8, 9, 7, 1])\n",
    "maxx(a, b)"
   ]
  },
  {
   "cell_type": "markdown",
   "metadata": {},
   "source": [
    "Swap columns 1 and 2 in the array arr"
   ]
  },
  {
   "cell_type": "code",
   "execution_count": 28,
   "metadata": {},
   "outputs": [
    {
     "data": {
      "text/plain": [
       "array([[0, 1, 2],\n",
       "       [3, 4, 5],\n",
       "       [6, 7, 8]])"
      ]
     },
     "execution_count": 28,
     "metadata": {},
     "output_type": "execute_result"
    }
   ],
   "source": [
    "arr = np.arange(9).reshape(3,-1)\n",
    "arr"
   ]
  },
  {
   "cell_type": "code",
   "execution_count": 29,
   "metadata": {},
   "outputs": [
    {
     "data": {
      "text/plain": [
       "array([[1, 0, 2],\n",
       "       [4, 3, 5],\n",
       "       [7, 6, 8]])"
      ]
     },
     "execution_count": 29,
     "metadata": {},
     "output_type": "execute_result"
    }
   ],
   "source": [
    "arr[:, [1,0,2]]"
   ]
  },
  {
   "cell_type": "markdown",
   "metadata": {},
   "source": [
    "Swap rows 1 and 2 in the array arr"
   ]
  },
  {
   "cell_type": "code",
   "execution_count": 30,
   "metadata": {},
   "outputs": [
    {
     "data": {
      "text/plain": [
       "array([[0, 1, 2],\n",
       "       [3, 4, 5],\n",
       "       [6, 7, 8]])"
      ]
     },
     "execution_count": 30,
     "metadata": {},
     "output_type": "execute_result"
    }
   ],
   "source": [
    "arr = np.arange(9).reshape(3,-1)\n",
    "arr"
   ]
  },
  {
   "cell_type": "code",
   "execution_count": 31,
   "metadata": {},
   "outputs": [
    {
     "data": {
      "text/plain": [
       "array([[3, 4, 5],\n",
       "       [0, 1, 2],\n",
       "       [6, 7, 8]])"
      ]
     },
     "execution_count": 31,
     "metadata": {},
     "output_type": "execute_result"
    }
   ],
   "source": [
    "arr[[1,0,2], :]"
   ]
  },
  {
   "cell_type": "markdown",
   "metadata": {},
   "source": [
    "Reverse the rows of a 2D array arr"
   ]
  },
  {
   "cell_type": "code",
   "execution_count": 32,
   "metadata": {},
   "outputs": [
    {
     "data": {
      "text/plain": [
       "array([[0, 1, 2],\n",
       "       [3, 4, 5],\n",
       "       [6, 7, 8]])"
      ]
     },
     "execution_count": 32,
     "metadata": {},
     "output_type": "execute_result"
    }
   ],
   "source": [
    "arr = np.arange(9).reshape(3,3)\n",
    "arr"
   ]
  },
  {
   "cell_type": "code",
   "execution_count": 33,
   "metadata": {},
   "outputs": [
    {
     "data": {
      "text/plain": [
       "array([[6, 7, 8],\n",
       "       [3, 4, 5],\n",
       "       [0, 1, 2]])"
      ]
     },
     "execution_count": 33,
     "metadata": {},
     "output_type": "execute_result"
    }
   ],
   "source": [
    "arr[::-1]"
   ]
  },
  {
   "cell_type": "markdown",
   "metadata": {},
   "source": [
    "Reverse the columns of a 2D array arr"
   ]
  },
  {
   "cell_type": "code",
   "execution_count": 34,
   "metadata": {},
   "outputs": [
    {
     "data": {
      "text/plain": [
       "array([[2, 1, 0],\n",
       "       [5, 4, 3],\n",
       "       [8, 7, 6]])"
      ]
     },
     "execution_count": 34,
     "metadata": {},
     "output_type": "execute_result"
    }
   ],
   "source": [
    "arr[:,::-1]"
   ]
  },
  {
   "cell_type": "markdown",
   "metadata": {},
   "source": [
    "Create a 2D array of shape 5x3 to contain random decimal numbers between 5 and 10"
   ]
  },
  {
   "cell_type": "code",
   "execution_count": 35,
   "metadata": {},
   "outputs": [
    {
     "data": {
      "text/plain": [
       "array([[8.38457839, 8.06428141, 7.84997273],\n",
       "       [6.46548642, 7.37732196, 7.44783953],\n",
       "       [6.93355796, 7.90020255, 9.76853629],\n",
       "       [6.43290177, 7.79462758, 8.87078159],\n",
       "       [6.55740334, 8.70977094, 5.36938564]])"
      ]
     },
     "execution_count": 35,
     "metadata": {},
     "output_type": "execute_result"
    }
   ],
   "source": [
    "np.random.uniform(5,10,(5,3))"
   ]
  },
  {
   "cell_type": "markdown",
   "metadata": {},
   "source": [
    "Print or show only 3 decimal places of the numpy array rand_arr"
   ]
  },
  {
   "cell_type": "code",
   "execution_count": 36,
   "metadata": {},
   "outputs": [
    {
     "data": {
      "text/plain": [
       "array([[0.95903494, 0.69587336, 0.06914366],\n",
       "       [0.70263351, 0.6854544 , 0.89850193],\n",
       "       [0.78276673, 0.05515524, 0.19462217],\n",
       "       [0.59411241, 0.7543295 , 0.58071223],\n",
       "       [0.09562355, 0.21561654, 0.38851336]])"
      ]
     },
     "execution_count": 36,
     "metadata": {},
     "output_type": "execute_result"
    }
   ],
   "source": [
    "rand_arr = np.random.random((5,3))\n",
    "rand_arr"
   ]
  },
  {
   "cell_type": "code",
   "execution_count": 37,
   "metadata": {},
   "outputs": [
    {
     "data": {
      "text/plain": [
       "array([[0.959, 0.696, 0.069],\n",
       "       [0.703, 0.685, 0.899],\n",
       "       [0.783, 0.055, 0.195],\n",
       "       [0.594, 0.754, 0.581],\n",
       "       [0.096, 0.216, 0.389]])"
      ]
     },
     "execution_count": 37,
     "metadata": {},
     "output_type": "execute_result"
    }
   ],
   "source": [
    "np.set_printoptions(precision=3)\n",
    "rand_arr"
   ]
  },
  {
   "cell_type": "markdown",
   "metadata": {},
   "source": [
    "Pretty print rand_arr by supressing the scientific notation (like 1e10)"
   ]
  },
  {
   "cell_type": "code",
   "execution_count": 38,
   "metadata": {},
   "outputs": [
    {
     "data": {
      "text/plain": [
       "array([[0.001, 0.001, 0.   ],\n",
       "       [0.   , 0.001, 0.001],\n",
       "       [0.001, 0.   , 0.001]])"
      ]
     },
     "execution_count": 38,
     "metadata": {},
     "output_type": "execute_result"
    }
   ],
   "source": [
    "rand_arr = np.random.random([3,3])/1e3\n",
    "rand_arr"
   ]
  },
  {
   "cell_type": "code",
   "execution_count": 39,
   "metadata": {},
   "outputs": [
    {
     "data": {
      "text/plain": [
       "array([[0.001, 0.001, 0.   ],\n",
       "       [0.   , 0.001, 0.001],\n",
       "       [0.001, 0.   , 0.001]])"
      ]
     },
     "execution_count": 39,
     "metadata": {},
     "output_type": "execute_result"
    }
   ],
   "source": [
    "np.set_printoptions(suppress=True)\n",
    "rand_arr"
   ]
  },
  {
   "cell_type": "markdown",
   "metadata": {},
   "source": [
    "Limit the number of items printed in python numpy array a to a maximum of 6 elements"
   ]
  },
  {
   "cell_type": "code",
   "execution_count": 40,
   "metadata": {},
   "outputs": [
    {
     "data": {
      "text/plain": [
       "array([ 0,  1,  2,  3,  4,  5,  6,  7,  8,  9, 10, 11, 12, 13, 14])"
      ]
     },
     "execution_count": 40,
     "metadata": {},
     "output_type": "execute_result"
    }
   ],
   "source": [
    "a = np.arange(15)\n",
    "a"
   ]
  },
  {
   "cell_type": "code",
   "execution_count": 41,
   "metadata": {},
   "outputs": [
    {
     "data": {
      "text/plain": [
       "array([ 0,  1,  2, ..., 12, 13, 14])"
      ]
     },
     "execution_count": 41,
     "metadata": {},
     "output_type": "execute_result"
    }
   ],
   "source": [
    "np.set_printoptions(threshold=6)\n",
    "a"
   ]
  },
  {
   "cell_type": "markdown",
   "metadata": {},
   "source": [
    "Print the full numpy array a without truncating"
   ]
  },
  {
   "cell_type": "code",
   "execution_count": 42,
   "metadata": {},
   "outputs": [
    {
     "data": {
      "text/plain": [
       "array([ 0,  1,  2, ..., 12, 13, 14])"
      ]
     },
     "execution_count": 42,
     "metadata": {},
     "output_type": "execute_result"
    }
   ],
   "source": [
    "np.set_printoptions(threshold=6)\n",
    "a = np.arange(15)\n",
    "a"
   ]
  },
  {
   "cell_type": "code",
   "execution_count": 43,
   "metadata": {},
   "outputs": [
    {
     "data": {
      "text/plain": [
       "array([ 0,  1,  2,  3,  4,  5,  6,  7,  8,  9, 10, 11, 12, 13, 14])"
      ]
     },
     "execution_count": 43,
     "metadata": {},
     "output_type": "execute_result"
    }
   ],
   "source": [
    "np.set_printoptions(threshold=np.nan)\n",
    "a"
   ]
  },
  {
   "cell_type": "markdown",
   "metadata": {},
   "source": [
    "Import the iris dataset keeping the text intact"
   ]
  },
  {
   "cell_type": "code",
   "execution_count": 44,
   "metadata": {},
   "outputs": [
    {
     "data": {
      "text/plain": [
       "array([[b'5', b'1,3', b'5,1', b'4,0', b'2,Iris-setosa'],\n",
       "       [b'4', b'9,3', b'0,1', b'4,0', b'2,Iris-setosa'],\n",
       "       [b'4', b'7,3', b'2,1', b'3,0', b'2,Iris-setosa'],\n",
       "       [b'4', b'6,3', b'1,1', b'5,0', b'2,Iris-setosa'],\n",
       "       [b'5', b'0,3', b'6,1', b'4,0', b'2,Iris-setosa'],\n",
       "       [b'5', b'4,3', b'9,1', b'7,0', b'4,Iris-setosa'],\n",
       "       [b'4', b'6,3', b'4,1', b'4,0', b'3,Iris-setosa'],\n",
       "       [b'5', b'0,3', b'4,1', b'5,0', b'2,Iris-setosa'],\n",
       "       [b'4', b'4,2', b'9,1', b'4,0', b'2,Iris-setosa'],\n",
       "       [b'4', b'9,3', b'1,1', b'5,0', b'1,Iris-setosa'],\n",
       "       [b'5', b'4,3', b'7,1', b'5,0', b'2,Iris-setosa'],\n",
       "       [b'4', b'8,3', b'4,1', b'6,0', b'2,Iris-setosa'],\n",
       "       [b'4', b'8,3', b'0,1', b'4,0', b'1,Iris-setosa'],\n",
       "       [b'4', b'3,3', b'0,1', b'1,0', b'1,Iris-setosa'],\n",
       "       [b'5', b'8,4', b'0,1', b'2,0', b'2,Iris-setosa'],\n",
       "       [b'5', b'7,4', b'4,1', b'5,0', b'4,Iris-setosa'],\n",
       "       [b'5', b'4,3', b'9,1', b'3,0', b'4,Iris-setosa'],\n",
       "       [b'5', b'1,3', b'5,1', b'4,0', b'3,Iris-setosa'],\n",
       "       [b'5', b'7,3', b'8,1', b'7,0', b'3,Iris-setosa'],\n",
       "       [b'5', b'1,3', b'8,1', b'5,0', b'3,Iris-setosa'],\n",
       "       [b'5', b'4,3', b'4,1', b'7,0', b'2,Iris-setosa'],\n",
       "       [b'5', b'1,3', b'7,1', b'5,0', b'4,Iris-setosa'],\n",
       "       [b'4', b'6,3', b'6,1', b'0,0', b'2,Iris-setosa'],\n",
       "       [b'5', b'1,3', b'3,1', b'7,0', b'5,Iris-setosa'],\n",
       "       [b'4', b'8,3', b'4,1', b'9,0', b'2,Iris-setosa'],\n",
       "       [b'5', b'0,3', b'0,1', b'6,0', b'2,Iris-setosa'],\n",
       "       [b'5', b'0,3', b'4,1', b'6,0', b'4,Iris-setosa'],\n",
       "       [b'5', b'2,3', b'5,1', b'5,0', b'2,Iris-setosa'],\n",
       "       [b'5', b'2,3', b'4,1', b'4,0', b'2,Iris-setosa'],\n",
       "       [b'4', b'7,3', b'2,1', b'6,0', b'2,Iris-setosa'],\n",
       "       [b'4', b'8,3', b'1,1', b'6,0', b'2,Iris-setosa'],\n",
       "       [b'5', b'4,3', b'4,1', b'5,0', b'4,Iris-setosa'],\n",
       "       [b'5', b'2,4', b'1,1', b'5,0', b'1,Iris-setosa'],\n",
       "       [b'5', b'5,4', b'2,1', b'4,0', b'2,Iris-setosa'],\n",
       "       [b'4', b'9,3', b'1,1', b'5,0', b'1,Iris-setosa'],\n",
       "       [b'5', b'0,3', b'2,1', b'2,0', b'2,Iris-setosa'],\n",
       "       [b'5', b'5,3', b'5,1', b'3,0', b'2,Iris-setosa'],\n",
       "       [b'4', b'9,3', b'1,1', b'5,0', b'1,Iris-setosa'],\n",
       "       [b'4', b'4,3', b'0,1', b'3,0', b'2,Iris-setosa'],\n",
       "       [b'5', b'1,3', b'4,1', b'5,0', b'2,Iris-setosa'],\n",
       "       [b'5', b'0,3', b'5,1', b'3,0', b'3,Iris-setosa'],\n",
       "       [b'4', b'5,2', b'3,1', b'3,0', b'3,Iris-setosa'],\n",
       "       [b'4', b'4,3', b'2,1', b'3,0', b'2,Iris-setosa'],\n",
       "       [b'5', b'0,3', b'5,1', b'6,0', b'6,Iris-setosa'],\n",
       "       [b'5', b'1,3', b'8,1', b'9,0', b'4,Iris-setosa'],\n",
       "       [b'4', b'8,3', b'0,1', b'4,0', b'3,Iris-setosa'],\n",
       "       [b'5', b'1,3', b'8,1', b'6,0', b'2,Iris-setosa'],\n",
       "       [b'4', b'6,3', b'2,1', b'4,0', b'2,Iris-setosa'],\n",
       "       [b'5', b'3,3', b'7,1', b'5,0', b'2,Iris-setosa'],\n",
       "       [b'5', b'0,3', b'3,1', b'4,0', b'2,Iris-setosa'],\n",
       "       [b'7', b'0,3', b'2,4', b'7,1', b'4,Iris-versicolor'],\n",
       "       [b'6', b'4,3', b'2,4', b'5,1', b'5,Iris-versicolor'],\n",
       "       [b'6', b'9,3', b'1,4', b'9,1', b'5,Iris-versicolor'],\n",
       "       [b'5', b'5,2', b'3,4', b'0,1', b'3,Iris-versicolor'],\n",
       "       [b'6', b'5,2', b'8,4', b'6,1', b'5,Iris-versicolor'],\n",
       "       [b'5', b'7,2', b'8,4', b'5,1', b'3,Iris-versicolor'],\n",
       "       [b'6', b'3,3', b'3,4', b'7,1', b'6,Iris-versicolor'],\n",
       "       [b'4', b'9,2', b'4,3', b'3,1', b'0,Iris-versicolor'],\n",
       "       [b'6', b'6,2', b'9,4', b'6,1', b'3,Iris-versicolor'],\n",
       "       [b'5', b'2,2', b'7,3', b'9,1', b'4,Iris-versicolor'],\n",
       "       [b'5', b'0,2', b'0,3', b'5,1', b'0,Iris-versicolor'],\n",
       "       [b'5', b'9,3', b'0,4', b'2,1', b'5,Iris-versicolor'],\n",
       "       [b'6', b'0,2', b'2,4', b'0,1', b'0,Iris-versicolor'],\n",
       "       [b'6', b'1,2', b'9,4', b'7,1', b'4,Iris-versicolor'],\n",
       "       [b'5', b'6,2', b'9,3', b'6,1', b'3,Iris-versicolor'],\n",
       "       [b'6', b'7,3', b'1,4', b'4,1', b'4,Iris-versicolor'],\n",
       "       [b'5', b'6,3', b'0,4', b'5,1', b'5,Iris-versicolor'],\n",
       "       [b'5', b'8,2', b'7,4', b'1,1', b'0,Iris-versicolor'],\n",
       "       [b'6', b'2,2', b'2,4', b'5,1', b'5,Iris-versicolor'],\n",
       "       [b'5', b'6,2', b'5,3', b'9,1', b'1,Iris-versicolor'],\n",
       "       [b'5', b'9,3', b'2,4', b'8,1', b'8,Iris-versicolor'],\n",
       "       [b'6', b'1,2', b'8,4', b'0,1', b'3,Iris-versicolor'],\n",
       "       [b'6', b'3,2', b'5,4', b'9,1', b'5,Iris-versicolor'],\n",
       "       [b'6', b'1,2', b'8,4', b'7,1', b'2,Iris-versicolor'],\n",
       "       [b'6', b'4,2', b'9,4', b'3,1', b'3,Iris-versicolor'],\n",
       "       [b'6', b'6,3', b'0,4', b'4,1', b'4,Iris-versicolor'],\n",
       "       [b'6', b'8,2', b'8,4', b'8,1', b'4,Iris-versicolor'],\n",
       "       [b'6', b'7,3', b'0,5', b'0,1', b'7,Iris-versicolor'],\n",
       "       [b'6', b'0,2', b'9,4', b'5,1', b'5,Iris-versicolor'],\n",
       "       [b'5', b'7,2', b'6,3', b'5,1', b'0,Iris-versicolor'],\n",
       "       [b'5', b'5,2', b'4,3', b'8,1', b'1,Iris-versicolor'],\n",
       "       [b'5', b'5,2', b'4,3', b'7,1', b'0,Iris-versicolor'],\n",
       "       [b'5', b'8,2', b'7,3', b'9,1', b'2,Iris-versicolor'],\n",
       "       [b'6', b'0,2', b'7,5', b'1,1', b'6,Iris-versicolor'],\n",
       "       [b'5', b'4,3', b'0,4', b'5,1', b'5,Iris-versicolor'],\n",
       "       [b'6', b'0,3', b'4,4', b'5,1', b'6,Iris-versicolor'],\n",
       "       [b'6', b'7,3', b'1,4', b'7,1', b'5,Iris-versicolor'],\n",
       "       [b'6', b'3,2', b'3,4', b'4,1', b'3,Iris-versicolor'],\n",
       "       [b'5', b'6,3', b'0,4', b'1,1', b'3,Iris-versicolor'],\n",
       "       [b'5', b'5,2', b'5,4', b'0,1', b'3,Iris-versicolor'],\n",
       "       [b'5', b'5,2', b'6,4', b'4,1', b'2,Iris-versicolor'],\n",
       "       [b'6', b'1,3', b'0,4', b'6,1', b'4,Iris-versicolor'],\n",
       "       [b'5', b'8,2', b'6,4', b'0,1', b'2,Iris-versicolor'],\n",
       "       [b'5', b'0,2', b'3,3', b'3,1', b'0,Iris-versicolor'],\n",
       "       [b'5', b'6,2', b'7,4', b'2,1', b'3,Iris-versicolor'],\n",
       "       [b'5', b'7,3', b'0,4', b'2,1', b'2,Iris-versicolor'],\n",
       "       [b'5', b'7,2', b'9,4', b'2,1', b'3,Iris-versicolor'],\n",
       "       [b'6', b'2,2', b'9,4', b'3,1', b'3,Iris-versicolor'],\n",
       "       [b'5', b'1,2', b'5,3', b'0,1', b'1,Iris-versicolor'],\n",
       "       [b'5', b'7,2', b'8,4', b'1,1', b'3,Iris-versicolor'],\n",
       "       [b'6', b'3,3', b'3,6', b'0,2', b'5,Iris-virginica'],\n",
       "       [b'5', b'8,2', b'7,5', b'1,1', b'9,Iris-virginica'],\n",
       "       [b'7', b'1,3', b'0,5', b'9,2', b'1,Iris-virginica'],\n",
       "       [b'6', b'3,2', b'9,5', b'6,1', b'8,Iris-virginica'],\n",
       "       [b'6', b'5,3', b'0,5', b'8,2', b'2,Iris-virginica'],\n",
       "       [b'7', b'6,3', b'0,6', b'6,2', b'1,Iris-virginica'],\n",
       "       [b'4', b'9,2', b'5,4', b'5,1', b'7,Iris-virginica'],\n",
       "       [b'7', b'3,2', b'9,6', b'3,1', b'8,Iris-virginica'],\n",
       "       [b'6', b'7,2', b'5,5', b'8,1', b'8,Iris-virginica'],\n",
       "       [b'7', b'2,3', b'6,6', b'1,2', b'5,Iris-virginica'],\n",
       "       [b'6', b'5,3', b'2,5', b'1,2', b'0,Iris-virginica'],\n",
       "       [b'6', b'4,2', b'7,5', b'3,1', b'9,Iris-virginica'],\n",
       "       [b'6', b'8,3', b'0,5', b'5,2', b'1,Iris-virginica'],\n",
       "       [b'5', b'7,2', b'5,5', b'0,2', b'0,Iris-virginica'],\n",
       "       [b'5', b'8,2', b'8,5', b'1,2', b'4,Iris-virginica'],\n",
       "       [b'6', b'4,3', b'2,5', b'3,2', b'3,Iris-virginica'],\n",
       "       [b'6', b'5,3', b'0,5', b'5,1', b'8,Iris-virginica'],\n",
       "       [b'7', b'7,3', b'8,6', b'7,2', b'2,Iris-virginica'],\n",
       "       [b'7', b'7,2', b'6,6', b'9,2', b'3,Iris-virginica'],\n",
       "       [b'6', b'0,2', b'2,5', b'0,1', b'5,Iris-virginica'],\n",
       "       [b'6', b'9,3', b'2,5', b'7,2', b'3,Iris-virginica'],\n",
       "       [b'5', b'6,2', b'8,4', b'9,2', b'0,Iris-virginica'],\n",
       "       [b'7', b'7,2', b'8,6', b'7,2', b'0,Iris-virginica'],\n",
       "       [b'6', b'3,2', b'7,4', b'9,1', b'8,Iris-virginica'],\n",
       "       [b'6', b'7,3', b'3,5', b'7,2', b'1,Iris-virginica'],\n",
       "       [b'7', b'2,3', b'2,6', b'0,1', b'8,Iris-virginica'],\n",
       "       [b'6', b'2,2', b'8,4', b'8,1', b'8,Iris-virginica'],\n",
       "       [b'6', b'1,3', b'0,4', b'9,1', b'8,Iris-virginica'],\n",
       "       [b'6', b'4,2', b'8,5', b'6,2', b'1,Iris-virginica'],\n",
       "       [b'7', b'2,3', b'0,5', b'8,1', b'6,Iris-virginica'],\n",
       "       [b'7', b'4,2', b'8,6', b'1,1', b'9,Iris-virginica'],\n",
       "       [b'7', b'9,3', b'8,6', b'4,2', b'0,Iris-virginica'],\n",
       "       [b'6', b'4,2', b'8,5', b'6,2', b'2,Iris-virginica'],\n",
       "       [b'6', b'3,2', b'8,5', b'1,1', b'5,Iris-virginica'],\n",
       "       [b'6', b'1,2', b'6,5', b'6,1', b'4,Iris-virginica'],\n",
       "       [b'7', b'7,3', b'0,6', b'1,2', b'3,Iris-virginica'],\n",
       "       [b'6', b'3,3', b'4,5', b'6,2', b'4,Iris-virginica'],\n",
       "       [b'6', b'4,3', b'1,5', b'5,1', b'8,Iris-virginica'],\n",
       "       [b'6', b'0,3', b'0,4', b'8,1', b'8,Iris-virginica'],\n",
       "       [b'6', b'9,3', b'1,5', b'4,2', b'1,Iris-virginica'],\n",
       "       [b'6', b'7,3', b'1,5', b'6,2', b'4,Iris-virginica'],\n",
       "       [b'6', b'9,3', b'1,5', b'1,2', b'3,Iris-virginica'],\n",
       "       [b'5', b'8,2', b'7,5', b'1,1', b'9,Iris-virginica'],\n",
       "       [b'6', b'8,3', b'2,5', b'9,2', b'3,Iris-virginica'],\n",
       "       [b'6', b'7,3', b'3,5', b'7,2', b'5,Iris-virginica'],\n",
       "       [b'6', b'7,3', b'0,5', b'2,2', b'3,Iris-virginica'],\n",
       "       [b'6', b'3,2', b'5,5', b'0,1', b'9,Iris-virginica'],\n",
       "       [b'6', b'5,3', b'0,5', b'2,2', b'0,Iris-virginica'],\n",
       "       [b'6', b'2,3', b'4,5', b'4,2', b'3,Iris-virginica'],\n",
       "       [b'5', b'9,3', b'0,5', b'1,1', b'8,Iris-virginica']], dtype=object)"
      ]
     },
     "execution_count": 44,
     "metadata": {},
     "output_type": "execute_result"
    }
   ],
   "source": [
    "url = 'https://archive.ics.uci.edu/ml/machine-learning-databases/iris/iris.data'\n",
    "iris_ld = np.genfromtxt(url, delimiter='.',dtype=object)\n",
    "iris_ld"
   ]
  },
  {
   "cell_type": "markdown",
   "metadata": {},
   "source": [
    "Extract the text column species from the 1D iris imported in previous question"
   ]
  },
  {
   "cell_type": "code",
   "execution_count": 45,
   "metadata": {},
   "outputs": [
    {
     "data": {
      "text/plain": [
       "array([b'Iris-setosa', b'Iris-versicolor', b'Iris-virginica'],\n",
       "      dtype=object)"
      ]
     },
     "execution_count": 45,
     "metadata": {},
     "output_type": "execute_result"
    }
   ],
   "source": [
    "url = 'https://archive.ics.uci.edu/ml/machine-learning-databases/iris/iris.data'\n",
    "iris_1d = np.genfromtxt(url, delimiter=',', dtype=object)\n",
    "species = np.unique(np.array([iris_1d[:, 4]]))\n",
    "species"
   ]
  },
  {
   "cell_type": "markdown",
   "metadata": {},
   "source": [
    "Convert the 1D iris to 2D array iris_2d by omitting the species text field"
   ]
  },
  {
   "cell_type": "code",
   "execution_count": 46,
   "metadata": {},
   "outputs": [],
   "source": [
    "url = 'https://archive.ics.uci.edu/ml/machine-learning-databases/iris/iris.data'\n",
    "iris_1d = np.genfromtxt(url, delimiter=',', dtype=object)"
   ]
  },
  {
   "cell_type": "code",
   "execution_count": 47,
   "metadata": {},
   "outputs": [
    {
     "data": {
      "text/plain": [
       "array([[5.1, 3.5, 1.4, 0.2],\n",
       "       [4.9, 3. , 1.4, 0.2],\n",
       "       [4.7, 3.2, 1.3, 0.2],\n",
       "       [4.6, 3.1, 1.5, 0.2]])"
      ]
     },
     "execution_count": 47,
     "metadata": {},
     "output_type": "execute_result"
    }
   ],
   "source": [
    "iris_2d = np.genfromtxt(url, delimiter=',', dtype='float', usecols=[0,1,2,3])\n",
    "iris_2d[:4]"
   ]
  },
  {
   "cell_type": "markdown",
   "metadata": {},
   "source": [
    "Find the mean, median, standard devation of iri's sepallength (1st column)"
   ]
  },
  {
   "cell_type": "code",
   "execution_count": 48,
   "metadata": {},
   "outputs": [
    {
     "data": {
      "text/plain": [
       "array([5., 4., 4., 4., 5., 5., 4., 5., 4., 4., 5., 4., 4., 4., 5., 5., 5.,\n",
       "       5., 5., 5., 5., 5., 4., 5., 4., 5., 5., 5., 5., 4., 4., 5., 5., 5.,\n",
       "       4., 5., 5., 4., 4., 5., 5., 4., 4., 5., 5., 4., 5., 4., 5., 5., 7.,\n",
       "       6., 6., 5., 6., 5., 6., 4., 6., 5., 5., 5., 6., 6., 5., 6., 5., 5.,\n",
       "       6., 5., 5., 6., 6., 6., 6., 6., 6., 6., 6., 5., 5., 5., 5., 6., 5.,\n",
       "       6., 6., 6., 5., 5., 5., 6., 5., 5., 5., 5., 5., 6., 5., 5., 6., 5.,\n",
       "       7., 6., 6., 7., 4., 7., 6., 7., 6., 6., 6., 5., 5., 6., 6., 7., 7.,\n",
       "       6., 6., 5., 7., 6., 6., 7., 6., 6., 6., 7., 7., 7., 6., 6., 6., 7.,\n",
       "       6., 6., 6., 6., 6., 6., 5., 6., 6., 6., 6., 6., 6., 5.])"
      ]
     },
     "execution_count": 48,
     "metadata": {},
     "output_type": "execute_result"
    }
   ],
   "source": [
    "sepallength = np.genfromtxt(url, delimiter='.', dtype=np.float, usecols=[0])\n",
    "sepallength"
   ]
  },
  {
   "cell_type": "code",
   "execution_count": 49,
   "metadata": {},
   "outputs": [
    {
     "name": "stdout",
     "output_type": "stream",
     "text": [
      "5.386666666666667\n",
      "5.0\n",
      "0.8389411315594332\n"
     ]
    }
   ],
   "source": [
    "print(np.mean(sepallength))\n",
    "print(np.median(sepallength))\n",
    "print(np.std(sepallength))"
   ]
  },
  {
   "cell_type": "markdown",
   "metadata": {},
   "source": [
    "Create a normalized form of iris's sepallength whose values range exactly between 0 and 1 so that the minimum has value 0 and maximum has value 1."
   ]
  },
  {
   "cell_type": "code",
   "execution_count": 50,
   "metadata": {},
   "outputs": [],
   "source": [
    "url = 'https://archive.ics.uci.edu/ml/machine-learning-databases/iris/iris.data'\n",
    "sepallength = np.genfromtxt(url, delimiter=',', dtype='float', usecols=[0])"
   ]
  },
  {
   "cell_type": "code",
   "execution_count": 51,
   "metadata": {},
   "outputs": [
    {
     "data": {
      "text/plain": [
       "array([0.222, 0.167, 0.111, 0.083, 0.194, 0.306, 0.083, 0.194, 0.028,\n",
       "       0.167, 0.306, 0.139, 0.139, 0.   , 0.417, 0.389, 0.306, 0.222,\n",
       "       0.389, 0.222, 0.306, 0.222, 0.083, 0.222, 0.139, 0.194, 0.194,\n",
       "       0.25 , 0.25 , 0.111, 0.139, 0.306, 0.25 , 0.333, 0.167, 0.194,\n",
       "       0.333, 0.167, 0.028, 0.222, 0.194, 0.056, 0.028, 0.194, 0.222,\n",
       "       0.139, 0.222, 0.083, 0.278, 0.194, 0.75 , 0.583, 0.722, 0.333,\n",
       "       0.611, 0.389, 0.556, 0.167, 0.639, 0.25 , 0.194, 0.444, 0.472,\n",
       "       0.5  , 0.361, 0.667, 0.361, 0.417, 0.528, 0.361, 0.444, 0.5  ,\n",
       "       0.556, 0.5  , 0.583, 0.639, 0.694, 0.667, 0.472, 0.389, 0.333,\n",
       "       0.333, 0.417, 0.472, 0.306, 0.472, 0.667, 0.556, 0.361, 0.333,\n",
       "       0.333, 0.5  , 0.417, 0.194, 0.361, 0.389, 0.389, 0.528, 0.222,\n",
       "       0.389, 0.556, 0.417, 0.778, 0.556, 0.611, 0.917, 0.167, 0.833,\n",
       "       0.667, 0.806, 0.611, 0.583, 0.694, 0.389, 0.417, 0.583, 0.611,\n",
       "       0.944, 0.944, 0.472, 0.722, 0.361, 0.944, 0.556, 0.667, 0.806,\n",
       "       0.528, 0.5  , 0.583, 0.806, 0.861, 1.   , 0.583, 0.556, 0.5  ,\n",
       "       0.944, 0.556, 0.583, 0.472, 0.722, 0.667, 0.722, 0.417, 0.694,\n",
       "       0.667, 0.667, 0.556, 0.611, 0.528, 0.444])"
      ]
     },
     "execution_count": 51,
     "metadata": {},
     "output_type": "execute_result"
    }
   ],
   "source": [
    "np.array([(a - np.min(sepallength))/(np.max(sepallength) - np.min(sepallength)) for a in sepallength])"
   ]
  },
  {
   "cell_type": "markdown",
   "metadata": {},
   "source": [
    "Compute the softmax score of speallength"
   ]
  },
  {
   "cell_type": "code",
   "execution_count": 52,
   "metadata": {},
   "outputs": [],
   "source": [
    "url = 'https://archive.ics.uci.edu/ml/machine-learning-databases/iris/iris.data'\n",
    "sepallength = np.genfromtxt(url, delimiter=',', dtype='float', usecols=[0])"
   ]
  },
  {
   "cell_type": "code",
   "execution_count": 53,
   "metadata": {},
   "outputs": [
    {
     "name": "stdout",
     "output_type": "stream",
     "text": [
      "[0.002 0.002 0.001 0.001 0.002 0.003 0.001 0.002 0.001 0.002 0.003 0.002\n",
      " 0.002 0.001 0.004 0.004 0.003 0.002 0.004 0.002 0.003 0.002 0.001 0.002\n",
      " 0.002 0.002 0.002 0.002 0.002 0.001 0.002 0.003 0.002 0.003 0.002 0.002\n",
      " 0.003 0.002 0.001 0.002 0.002 0.001 0.001 0.002 0.002 0.002 0.002 0.001\n",
      " 0.003 0.002 0.015 0.008 0.013 0.003 0.009 0.004 0.007 0.002 0.01  0.002\n",
      " 0.002 0.005 0.005 0.006 0.004 0.011 0.004 0.004 0.007 0.004 0.005 0.006\n",
      " 0.007 0.006 0.008 0.01  0.012 0.011 0.005 0.004 0.003 0.003 0.004 0.005\n",
      " 0.003 0.005 0.011 0.007 0.004 0.003 0.003 0.006 0.004 0.002 0.004 0.004\n",
      " 0.004 0.007 0.002 0.004 0.007 0.004 0.016 0.007 0.009 0.027 0.002 0.02\n",
      " 0.011 0.018 0.009 0.008 0.012 0.004 0.004 0.008 0.009 0.03  0.03  0.005\n",
      " 0.013 0.004 0.03  0.007 0.011 0.018 0.007 0.006 0.008 0.018 0.022 0.037\n",
      " 0.008 0.007 0.006 0.03  0.007 0.008 0.005 0.013 0.011 0.013 0.004 0.012\n",
      " 0.011 0.011 0.007 0.009 0.007 0.005]\n"
     ]
    }
   ],
   "source": [
    "def softmax(x):\n",
    "    e_x = np.exp(x - np.max(x))\n",
    "    return e_x / e_x.sum(axis=0)\n",
    "\n",
    "print(softmax(sepallength))"
   ]
  },
  {
   "cell_type": "markdown",
   "metadata": {},
   "source": [
    "Fin the 5th and 95th percentile of iri's sepallength"
   ]
  },
  {
   "cell_type": "code",
   "execution_count": 54,
   "metadata": {},
   "outputs": [],
   "source": [
    "url = 'https://archive.ics.uci.edu/ml/machine-learning-databases/iris/iris.data'\n",
    "sepallength = np.genfromtxt(url, delimiter=',', dtype='float', usecols=[0])"
   ]
  },
  {
   "cell_type": "code",
   "execution_count": 55,
   "metadata": {},
   "outputs": [
    {
     "data": {
      "text/plain": [
       "array([4.6  , 7.255])"
      ]
     },
     "execution_count": 55,
     "metadata": {},
     "output_type": "execute_result"
    }
   ],
   "source": [
    "np.percentile(sepallength,[5,95])"
   ]
  },
  {
   "cell_type": "markdown",
   "metadata": {},
   "source": [
    "Insert np.nan values at 20 random positions in iris_2d dataset"
   ]
  },
  {
   "cell_type": "code",
   "execution_count": 56,
   "metadata": {},
   "outputs": [
    {
     "data": {
      "text/plain": [
       "(150, 5)"
      ]
     },
     "execution_count": 56,
     "metadata": {},
     "output_type": "execute_result"
    }
   ],
   "source": [
    "url = 'https://archive.ics.uci.edu/ml/machine-learning-databases/iris/iris.data'\n",
    "iris_2d = np.genfromtxt(url, delimiter=',', dtype='object')\n",
    "iris_2d.shape"
   ]
  },
  {
   "cell_type": "code",
   "execution_count": 57,
   "metadata": {},
   "outputs": [
    {
     "data": {
      "text/plain": [
       "array([[b'5.1', b'3.5', b'1.4', b'0.2', b'Iris-setosa'],\n",
       "       [b'4.9', b'3.0', b'1.4', b'0.2', b'Iris-setosa'],\n",
       "       [b'4.7', b'3.2', b'1.3', b'0.2', b'Iris-setosa'],\n",
       "       [b'4.6', b'3.1', b'1.5', b'0.2', b'Iris-setosa'],\n",
       "       [b'5.0', b'3.6', b'1.4', b'0.2', b'Iris-setosa'],\n",
       "       [nan, b'3.9', b'1.7', b'0.4', b'Iris-setosa'],\n",
       "       [b'4.6', nan, b'1.4', b'0.3', b'Iris-setosa'],\n",
       "       [b'5.0', b'3.4', b'1.5', b'0.2', b'Iris-setosa'],\n",
       "       [b'4.4', b'2.9', b'1.4', b'0.2', b'Iris-setosa'],\n",
       "       [b'4.9', b'3.1', b'1.5', b'0.1', b'Iris-setosa'],\n",
       "       [b'5.4', b'3.7', b'1.5', b'0.2', b'Iris-setosa'],\n",
       "       [b'4.8', b'3.4', b'1.6', b'0.2', b'Iris-setosa'],\n",
       "       [b'4.8', b'3.0', b'1.4', b'0.1', b'Iris-setosa'],\n",
       "       [b'4.3', b'3.0', b'1.1', b'0.1', b'Iris-setosa'],\n",
       "       [b'5.8', b'4.0', b'1.2', b'0.2', b'Iris-setosa'],\n",
       "       [b'5.7', b'4.4', b'1.5', b'0.4', b'Iris-setosa'],\n",
       "       [b'5.4', b'3.9', b'1.3', b'0.4', b'Iris-setosa'],\n",
       "       [b'5.1', b'3.5', b'1.4', b'0.3', b'Iris-setosa'],\n",
       "       [b'5.7', b'3.8', b'1.7', b'0.3', b'Iris-setosa'],\n",
       "       [b'5.1', b'3.8', b'1.5', b'0.3', b'Iris-setosa'],\n",
       "       [b'5.4', b'3.4', b'1.7', b'0.2', b'Iris-setosa'],\n",
       "       [b'5.1', b'3.7', b'1.5', b'0.4', b'Iris-setosa'],\n",
       "       [b'4.6', b'3.6', b'1.0', b'0.2', b'Iris-setosa'],\n",
       "       [b'5.1', b'3.3', b'1.7', b'0.5', b'Iris-setosa'],\n",
       "       [b'4.8', b'3.4', b'1.9', b'0.2', b'Iris-setosa'],\n",
       "       [b'5.0', b'3.0', b'1.6', b'0.2', b'Iris-setosa'],\n",
       "       [b'5.0', b'3.4', b'1.6', b'0.4', nan],\n",
       "       [b'5.2', b'3.5', b'1.5', b'0.2', b'Iris-setosa'],\n",
       "       [b'5.2', b'3.4', b'1.4', b'0.2', b'Iris-setosa'],\n",
       "       [b'4.7', b'3.2', b'1.6', b'0.2', b'Iris-setosa'],\n",
       "       [b'4.8', b'3.1', b'1.6', b'0.2', b'Iris-setosa'],\n",
       "       [b'5.4', b'3.4', b'1.5', b'0.4', b'Iris-setosa'],\n",
       "       [b'5.2', b'4.1', b'1.5', b'0.1', b'Iris-setosa'],\n",
       "       [b'5.5', b'4.2', b'1.4', b'0.2', b'Iris-setosa'],\n",
       "       [b'4.9', b'3.1', b'1.5', b'0.1', b'Iris-setosa'],\n",
       "       [b'5.0', b'3.2', b'1.2', b'0.2', b'Iris-setosa'],\n",
       "       [b'5.5', b'3.5', nan, b'0.2', b'Iris-setosa'],\n",
       "       [b'4.9', b'3.1', b'1.5', b'0.1', b'Iris-setosa'],\n",
       "       [b'4.4', b'3.0', b'1.3', b'0.2', b'Iris-setosa'],\n",
       "       [b'5.1', b'3.4', b'1.5', b'0.2', b'Iris-setosa'],\n",
       "       [b'5.0', b'3.5', b'1.3', b'0.3', b'Iris-setosa'],\n",
       "       [b'4.5', b'2.3', b'1.3', b'0.3', b'Iris-setosa'],\n",
       "       [b'4.4', b'3.2', b'1.3', b'0.2', b'Iris-setosa'],\n",
       "       [b'5.0', nan, b'1.6', b'0.6', b'Iris-setosa'],\n",
       "       [b'5.1', b'3.8', b'1.9', b'0.4', b'Iris-setosa'],\n",
       "       [nan, b'3.0', b'1.4', nan, b'Iris-setosa'],\n",
       "       [b'5.1', b'3.8', b'1.6', b'0.2', b'Iris-setosa'],\n",
       "       [b'4.6', b'3.2', b'1.4', b'0.2', b'Iris-setosa'],\n",
       "       [b'5.3', b'3.7', b'1.5', b'0.2', b'Iris-setosa'],\n",
       "       [b'5.0', b'3.3', b'1.4', b'0.2', b'Iris-setosa'],\n",
       "       [b'7.0', b'3.2', b'4.7', b'1.4', b'Iris-versicolor'],\n",
       "       [b'6.4', b'3.2', b'4.5', b'1.5', b'Iris-versicolor'],\n",
       "       [b'6.9', b'3.1', b'4.9', b'1.5', b'Iris-versicolor'],\n",
       "       [b'5.5', b'2.3', b'4.0', b'1.3', b'Iris-versicolor'],\n",
       "       [b'6.5', b'2.8', b'4.6', b'1.5', b'Iris-versicolor'],\n",
       "       [b'5.7', nan, b'4.5', b'1.3', b'Iris-versicolor'],\n",
       "       [b'6.3', nan, b'4.7', b'1.6', b'Iris-versicolor'],\n",
       "       [b'4.9', nan, b'3.3', b'1.0', b'Iris-versicolor'],\n",
       "       [b'6.6', b'2.9', b'4.6', b'1.3', b'Iris-versicolor'],\n",
       "       [b'5.2', b'2.7', b'3.9', b'1.4', b'Iris-versicolor'],\n",
       "       [b'5.0', b'2.0', b'3.5', b'1.0', b'Iris-versicolor'],\n",
       "       [b'5.9', b'3.0', b'4.2', b'1.5', b'Iris-versicolor'],\n",
       "       [b'6.0', b'2.2', b'4.0', b'1.0', b'Iris-versicolor'],\n",
       "       [b'6.1', b'2.9', b'4.7', b'1.4', b'Iris-versicolor'],\n",
       "       [b'5.6', b'2.9', b'3.6', b'1.3', b'Iris-versicolor'],\n",
       "       [b'6.7', b'3.1', b'4.4', b'1.4', b'Iris-versicolor'],\n",
       "       [b'5.6', b'3.0', b'4.5', b'1.5', b'Iris-versicolor'],\n",
       "       [b'5.8', b'2.7', b'4.1', b'1.0', b'Iris-versicolor'],\n",
       "       [b'6.2', b'2.2', b'4.5', b'1.5', b'Iris-versicolor'],\n",
       "       [b'5.6', b'2.5', b'3.9', b'1.1', b'Iris-versicolor'],\n",
       "       [b'5.9', b'3.2', b'4.8', b'1.8', b'Iris-versicolor'],\n",
       "       [b'6.1', b'2.8', b'4.0', b'1.3', b'Iris-versicolor'],\n",
       "       [b'6.3', b'2.5', b'4.9', b'1.5', b'Iris-versicolor'],\n",
       "       [b'6.1', b'2.8', b'4.7', b'1.2', b'Iris-versicolor'],\n",
       "       [b'6.4', b'2.9', b'4.3', b'1.3', b'Iris-versicolor'],\n",
       "       [b'6.6', b'3.0', b'4.4', b'1.4', b'Iris-versicolor'],\n",
       "       [b'6.8', b'2.8', b'4.8', b'1.4', b'Iris-versicolor'],\n",
       "       [b'6.7', b'3.0', b'5.0', b'1.7', b'Iris-versicolor'],\n",
       "       [b'6.0', b'2.9', nan, b'1.5', b'Iris-versicolor'],\n",
       "       [b'5.7', b'2.6', b'3.5', b'1.0', b'Iris-versicolor'],\n",
       "       [b'5.5', b'2.4', b'3.8', b'1.1', b'Iris-versicolor'],\n",
       "       [b'5.5', b'2.4', b'3.7', b'1.0', b'Iris-versicolor'],\n",
       "       [b'5.8', b'2.7', b'3.9', b'1.2', b'Iris-versicolor'],\n",
       "       [b'6.0', b'2.7', b'5.1', b'1.6', b'Iris-versicolor'],\n",
       "       [b'5.4', b'3.0', b'4.5', b'1.5', b'Iris-versicolor'],\n",
       "       [b'6.0', b'3.4', b'4.5', b'1.6', nan],\n",
       "       [b'6.7', b'3.1', b'4.7', b'1.5', b'Iris-versicolor'],\n",
       "       [b'6.3', b'2.3', b'4.4', b'1.3', nan],\n",
       "       [b'5.6', b'3.0', b'4.1', b'1.3', b'Iris-versicolor'],\n",
       "       [b'5.5', b'2.5', b'4.0', b'1.3', b'Iris-versicolor'],\n",
       "       [b'5.5', b'2.6', b'4.4', b'1.2', b'Iris-versicolor'],\n",
       "       [b'6.1', b'3.0', b'4.6', b'1.4', b'Iris-versicolor'],\n",
       "       [b'5.8', b'2.6', b'4.0', b'1.2', b'Iris-versicolor'],\n",
       "       [b'5.0', b'2.3', b'3.3', b'1.0', b'Iris-versicolor'],\n",
       "       [b'5.6', b'2.7', b'4.2', b'1.3', b'Iris-versicolor'],\n",
       "       [b'5.7', b'3.0', b'4.2', b'1.2', b'Iris-versicolor'],\n",
       "       [b'5.7', b'2.9', b'4.2', b'1.3', b'Iris-versicolor'],\n",
       "       [b'6.2', b'2.9', b'4.3', b'1.3', b'Iris-versicolor'],\n",
       "       [b'5.1', b'2.5', b'3.0', b'1.1', b'Iris-versicolor'],\n",
       "       [b'5.7', b'2.8', b'4.1', b'1.3', b'Iris-versicolor'],\n",
       "       [b'6.3', b'3.3', b'6.0', b'2.5', b'Iris-virginica'],\n",
       "       [nan, b'2.7', b'5.1', b'1.9', b'Iris-virginica'],\n",
       "       [b'7.1', b'3.0', b'5.9', b'2.1', b'Iris-virginica'],\n",
       "       [b'6.3', b'2.9', b'5.6', b'1.8', b'Iris-virginica'],\n",
       "       [b'6.5', b'3.0', b'5.8', b'2.2', b'Iris-virginica'],\n",
       "       [b'7.6', b'3.0', b'6.6', b'2.1', b'Iris-virginica'],\n",
       "       [b'4.9', b'2.5', b'4.5', b'1.7', b'Iris-virginica'],\n",
       "       [b'7.3', b'2.9', b'6.3', b'1.8', b'Iris-virginica'],\n",
       "       [b'6.7', b'2.5', b'5.8', b'1.8', b'Iris-virginica'],\n",
       "       [b'7.2', b'3.6', b'6.1', b'2.5', b'Iris-virginica'],\n",
       "       [b'6.5', b'3.2', b'5.1', b'2.0', b'Iris-virginica'],\n",
       "       [b'6.4', b'2.7', b'5.3', b'1.9', b'Iris-virginica'],\n",
       "       [b'6.8', b'3.0', b'5.5', b'2.1', b'Iris-virginica'],\n",
       "       [b'5.7', b'2.5', b'5.0', b'2.0', b'Iris-virginica'],\n",
       "       [b'5.8', b'2.8', b'5.1', b'2.4', b'Iris-virginica'],\n",
       "       [b'6.4', b'3.2', b'5.3', b'2.3', b'Iris-virginica'],\n",
       "       [b'6.5', b'3.0', b'5.5', b'1.8', b'Iris-virginica'],\n",
       "       [b'7.7', b'3.8', b'6.7', b'2.2', b'Iris-virginica'],\n",
       "       [b'7.7', b'2.6', b'6.9', b'2.3', b'Iris-virginica'],\n",
       "       [b'6.0', b'2.2', b'5.0', b'1.5', b'Iris-virginica'],\n",
       "       [b'6.9', b'3.2', b'5.7', b'2.3', b'Iris-virginica'],\n",
       "       [b'5.6', b'2.8', b'4.9', b'2.0', b'Iris-virginica'],\n",
       "       [b'7.7', b'2.8', b'6.7', b'2.0', b'Iris-virginica'],\n",
       "       [b'6.3', b'2.7', b'4.9', b'1.8', b'Iris-virginica'],\n",
       "       [b'6.7', b'3.3', b'5.7', b'2.1', b'Iris-virginica'],\n",
       "       [b'7.2', b'3.2', b'6.0', b'1.8', b'Iris-virginica'],\n",
       "       [b'6.2', b'2.8', b'4.8', b'1.8', b'Iris-virginica'],\n",
       "       [b'6.1', b'3.0', b'4.9', b'1.8', nan],\n",
       "       [b'6.4', b'2.8', b'5.6', b'2.1', b'Iris-virginica'],\n",
       "       [b'7.2', b'3.0', b'5.8', b'1.6', b'Iris-virginica'],\n",
       "       [b'7.4', b'2.8', b'6.1', b'1.9', b'Iris-virginica'],\n",
       "       [b'7.9', b'3.8', b'6.4', b'2.0', b'Iris-virginica'],\n",
       "       [b'6.4', b'2.8', nan, b'2.2', b'Iris-virginica'],\n",
       "       [b'6.3', b'2.8', nan, b'1.5', b'Iris-virginica'],\n",
       "       [b'6.1', b'2.6', b'5.6', b'1.4', b'Iris-virginica'],\n",
       "       [b'7.7', b'3.0', b'6.1', b'2.3', b'Iris-virginica'],\n",
       "       [b'6.3', b'3.4', b'5.6', b'2.4', b'Iris-virginica'],\n",
       "       [b'6.4', b'3.1', b'5.5', b'1.8', b'Iris-virginica'],\n",
       "       [b'6.0', b'3.0', b'4.8', b'1.8', b'Iris-virginica'],\n",
       "       [b'6.9', b'3.1', b'5.4', b'2.1', b'Iris-virginica'],\n",
       "       [b'6.7', b'3.1', b'5.6', b'2.4', b'Iris-virginica'],\n",
       "       [b'6.9', b'3.1', b'5.1', b'2.3', b'Iris-virginica'],\n",
       "       [b'5.8', b'2.7', nan, b'1.9', b'Iris-virginica'],\n",
       "       [b'6.8', b'3.2', b'5.9', b'2.3', b'Iris-virginica'],\n",
       "       [b'6.7', b'3.3', b'5.7', b'2.5', b'Iris-virginica'],\n",
       "       [b'6.7', b'3.0', b'5.2', nan, b'Iris-virginica'],\n",
       "       [b'6.3', b'2.5', b'5.0', b'1.9', b'Iris-virginica'],\n",
       "       [b'6.5', b'3.0', b'5.2', b'2.0', b'Iris-virginica'],\n",
       "       [b'6.2', b'3.4', b'5.4', b'2.3', b'Iris-virginica'],\n",
       "       [b'5.9', b'3.0', b'5.1', b'1.8', b'Iris-virginica']], dtype=object)"
      ]
     },
     "execution_count": 57,
     "metadata": {},
     "output_type": "execute_result"
    }
   ],
   "source": [
    "iris_2d[np.random.randint(0,150,20),np.random.randint(0,5,20)] = np.nan\n",
    "iris_2d"
   ]
  },
  {
   "cell_type": "markdown",
   "metadata": {},
   "source": [
    "Find the number and position of missing values in iris_2d's sepallength (1st column)"
   ]
  },
  {
   "cell_type": "code",
   "execution_count": 58,
   "metadata": {},
   "outputs": [],
   "source": [
    "url = 'https://archive.ics.uci.edu/ml/machine-learning-databases/iris/iris.data'\n",
    "iris_2d = np.genfromtxt(url, delimiter=',', dtype='float')\n",
    "iris_2d[np.random.randint(150, size=20), np.random.randint(4, size=20)] = np.nan"
   ]
  },
  {
   "cell_type": "code",
   "execution_count": 59,
   "metadata": {},
   "outputs": [
    {
     "name": "stdout",
     "output_type": "stream",
     "text": [
      "5\n",
      "[[ 53]\n",
      " [ 65]\n",
      " [114]\n",
      " [118]\n",
      " [143]]\n"
     ]
    }
   ],
   "source": [
    "print(np.isnan(iris_2d[:,0]).sum())\n",
    "print(np.argwhere(np.isnan(iris_2d[:,0])))"
   ]
  },
  {
   "cell_type": "markdown",
   "metadata": {},
   "source": [
    "Filter the rows of iris_2d that has petallength (3rd column) > 1.5 and sepallength (1st column) < 5.0"
   ]
  },
  {
   "cell_type": "code",
   "execution_count": 60,
   "metadata": {},
   "outputs": [],
   "source": [
    "url = 'https://archive.ics.uci.edu/ml/machine-learning-databases/iris/iris.data'\n",
    "iris_2d = np.genfromtxt(url, delimiter=',', dtype='float', usecols=[0,1,2,3])"
   ]
  },
  {
   "cell_type": "code",
   "execution_count": 61,
   "metadata": {},
   "outputs": [
    {
     "data": {
      "text/plain": [
       "array([[4.8, 3.4, 1.6, 0.2],\n",
       "       [4.8, 3.4, 1.9, 0.2],\n",
       "       [4.7, 3.2, 1.6, 0.2],\n",
       "       [4.8, 3.1, 1.6, 0.2],\n",
       "       [4.9, 2.4, 3.3, 1. ],\n",
       "       [4.9, 2.5, 4.5, 1.7]])"
      ]
     },
     "execution_count": 61,
     "metadata": {},
     "output_type": "execute_result"
    }
   ],
   "source": [
    "iris_2d[np.logical_and(iris_2d[:,2] > 1.5,iris_2d[:,0] < 5)]"
   ]
  },
  {
   "cell_type": "markdown",
   "metadata": {},
   "source": [
    "Select the rows of iris_2d that does not have any nan value."
   ]
  },
  {
   "cell_type": "code",
   "execution_count": 62,
   "metadata": {},
   "outputs": [],
   "source": [
    "url = 'https://archive.ics.uci.edu/ml/machine-learning-databases/iris/iris.data'\n",
    "iris_2d = np.genfromtxt(url, delimiter=',', dtype='float', usecols=[0,1,2,3])\n",
    "iris_2d[np.random.randint(150, size=20), np.random.randint(4, size=20)] = np.nan"
   ]
  },
  {
   "cell_type": "code",
   "execution_count": 63,
   "metadata": {},
   "outputs": [
    {
     "data": {
      "text/plain": [
       "array([[5.1, 3.5, 1.4, 0.2],\n",
       "       [4.9, 3. , 1.4, 0.2],\n",
       "       [4.7, 3.2, 1.3, 0.2],\n",
       "       [4.6, 3.1, 1.5, 0.2],\n",
       "       [5.4, 3.9, 1.7, 0.4],\n",
       "       [4.6, 3.4, 1.4, 0.3],\n",
       "       [4.4, 2.9, 1.4, 0.2],\n",
       "       [4.9, 3.1, 1.5, 0.1],\n",
       "       [5.4, 3.7, 1.5, 0.2],\n",
       "       [4.8, 3.4, 1.6, 0.2],\n",
       "       [4.8, 3. , 1.4, 0.1],\n",
       "       [4.3, 3. , 1.1, 0.1],\n",
       "       [5.8, 4. , 1.2, 0.2],\n",
       "       [5.7, 4.4, 1.5, 0.4],\n",
       "       [5.4, 3.9, 1.3, 0.4],\n",
       "       [5.7, 3.8, 1.7, 0.3],\n",
       "       [5.4, 3.4, 1.7, 0.2],\n",
       "       [5.1, 3.7, 1.5, 0.4],\n",
       "       [4.6, 3.6, 1. , 0.2],\n",
       "       [5.1, 3.3, 1.7, 0.5],\n",
       "       [4.8, 3.4, 1.9, 0.2],\n",
       "       [5. , 3. , 1.6, 0.2],\n",
       "       [5. , 3.4, 1.6, 0.4],\n",
       "       [5.2, 3.5, 1.5, 0.2],\n",
       "       [5.2, 3.4, 1.4, 0.2],\n",
       "       [4.7, 3.2, 1.6, 0.2],\n",
       "       [4.8, 3.1, 1.6, 0.2],\n",
       "       [5.2, 4.1, 1.5, 0.1],\n",
       "       [5.5, 4.2, 1.4, 0.2],\n",
       "       [4.9, 3.1, 1.5, 0.1],\n",
       "       [5.5, 3.5, 1.3, 0.2],\n",
       "       [4.9, 3.1, 1.5, 0.1],\n",
       "       [4.4, 3. , 1.3, 0.2],\n",
       "       [5.1, 3.4, 1.5, 0.2],\n",
       "       [5. , 3.5, 1.3, 0.3],\n",
       "       [4.5, 2.3, 1.3, 0.3],\n",
       "       [4.4, 3.2, 1.3, 0.2],\n",
       "       [5. , 3.5, 1.6, 0.6],\n",
       "       [5.1, 3.8, 1.9, 0.4],\n",
       "       [4.8, 3. , 1.4, 0.3],\n",
       "       [5.1, 3.8, 1.6, 0.2],\n",
       "       [4.6, 3.2, 1.4, 0.2],\n",
       "       [5.3, 3.7, 1.5, 0.2],\n",
       "       [5. , 3.3, 1.4, 0.2],\n",
       "       [7. , 3.2, 4.7, 1.4],\n",
       "       [6.9, 3.1, 4.9, 1.5],\n",
       "       [5.5, 2.3, 4. , 1.3],\n",
       "       [6.5, 2.8, 4.6, 1.5],\n",
       "       [5.7, 2.8, 4.5, 1.3],\n",
       "       [6.3, 3.3, 4.7, 1.6],\n",
       "       [4.9, 2.4, 3.3, 1. ],\n",
       "       [6.6, 2.9, 4.6, 1.3],\n",
       "       [5.2, 2.7, 3.9, 1.4],\n",
       "       [5. , 2. , 3.5, 1. ],\n",
       "       [5.9, 3. , 4.2, 1.5],\n",
       "       [6.1, 2.9, 4.7, 1.4],\n",
       "       [5.6, 2.9, 3.6, 1.3],\n",
       "       [6.7, 3.1, 4.4, 1.4],\n",
       "       [5.6, 3. , 4.5, 1.5],\n",
       "       [5.8, 2.7, 4.1, 1. ],\n",
       "       [6.2, 2.2, 4.5, 1.5],\n",
       "       [5.6, 2.5, 3.9, 1.1],\n",
       "       [5.9, 3.2, 4.8, 1.8],\n",
       "       [6.1, 2.8, 4. , 1.3],\n",
       "       [6.1, 2.8, 4.7, 1.2],\n",
       "       [6.4, 2.9, 4.3, 1.3],\n",
       "       [6.8, 2.8, 4.8, 1.4],\n",
       "       [6.7, 3. , 5. , 1.7],\n",
       "       [5.7, 2.6, 3.5, 1. ],\n",
       "       [5.5, 2.4, 3.8, 1.1],\n",
       "       [5.5, 2.4, 3.7, 1. ],\n",
       "       [5.8, 2.7, 3.9, 1.2],\n",
       "       [6. , 2.7, 5.1, 1.6],\n",
       "       [5.4, 3. , 4.5, 1.5],\n",
       "       [6. , 3.4, 4.5, 1.6],\n",
       "       [6.3, 2.3, 4.4, 1.3],\n",
       "       [5.6, 3. , 4.1, 1.3],\n",
       "       [5.5, 2.5, 4. , 1.3],\n",
       "       [6.1, 3. , 4.6, 1.4],\n",
       "       [5.8, 2.6, 4. , 1.2],\n",
       "       [5. , 2.3, 3.3, 1. ],\n",
       "       [5.6, 2.7, 4.2, 1.3],\n",
       "       [5.7, 3. , 4.2, 1.2],\n",
       "       [6.2, 2.9, 4.3, 1.3],\n",
       "       [5.1, 2.5, 3. , 1.1],\n",
       "       [5.7, 2.8, 4.1, 1.3],\n",
       "       [6.3, 3.3, 6. , 2.5],\n",
       "       [5.8, 2.7, 5.1, 1.9],\n",
       "       [7.1, 3. , 5.9, 2.1],\n",
       "       [6.3, 2.9, 5.6, 1.8],\n",
       "       [6.5, 3. , 5.8, 2.2],\n",
       "       [7.6, 3. , 6.6, 2.1],\n",
       "       [7.3, 2.9, 6.3, 1.8],\n",
       "       [6.7, 2.5, 5.8, 1.8],\n",
       "       [7.2, 3.6, 6.1, 2.5],\n",
       "       [6.5, 3.2, 5.1, 2. ],\n",
       "       [6.4, 2.7, 5.3, 1.9],\n",
       "       [6.8, 3. , 5.5, 2.1],\n",
       "       [5.7, 2.5, 5. , 2. ],\n",
       "       [5.8, 2.8, 5.1, 2.4],\n",
       "       [6.4, 3.2, 5.3, 2.3],\n",
       "       [6.5, 3. , 5.5, 1.8],\n",
       "       [7.7, 3.8, 6.7, 2.2],\n",
       "       [7.7, 2.6, 6.9, 2.3],\n",
       "       [6. , 2.2, 5. , 1.5],\n",
       "       [5.6, 2.8, 4.9, 2. ],\n",
       "       [7.7, 2.8, 6.7, 2. ],\n",
       "       [6.3, 2.7, 4.9, 1.8],\n",
       "       [7.2, 3.2, 6. , 1.8],\n",
       "       [6.2, 2.8, 4.8, 1.8],\n",
       "       [6.1, 3. , 4.9, 1.8],\n",
       "       [6.4, 2.8, 5.6, 2.1],\n",
       "       [7.2, 3. , 5.8, 1.6],\n",
       "       [7.4, 2.8, 6.1, 1.9],\n",
       "       [7.9, 3.8, 6.4, 2. ],\n",
       "       [6.4, 2.8, 5.6, 2.2],\n",
       "       [6.3, 2.8, 5.1, 1.5],\n",
       "       [6.1, 2.6, 5.6, 1.4],\n",
       "       [7.7, 3. , 6.1, 2.3],\n",
       "       [6.3, 3.4, 5.6, 2.4],\n",
       "       [6.4, 3.1, 5.5, 1.8],\n",
       "       [6. , 3. , 4.8, 1.8],\n",
       "       [6.9, 3.1, 5.4, 2.1],\n",
       "       [6.7, 3.1, 5.6, 2.4],\n",
       "       [6.9, 3.1, 5.1, 2.3],\n",
       "       [5.8, 2.7, 5.1, 1.9],\n",
       "       [6.8, 3.2, 5.9, 2.3],\n",
       "       [6.7, 3.3, 5.7, 2.5],\n",
       "       [6.7, 3. , 5.2, 2.3],\n",
       "       [6.5, 3. , 5.2, 2. ],\n",
       "       [6.2, 3.4, 5.4, 2.3],\n",
       "       [5.9, 3. , 5.1, 1.8]])"
      ]
     },
     "execution_count": 63,
     "metadata": {},
     "output_type": "execute_result"
    }
   ],
   "source": [
    "iris_2d[[~np.any(np.isnan(a)) for a in iris_2d]]"
   ]
  },
  {
   "cell_type": "markdown",
   "metadata": {},
   "source": [
    "Find the correlation between SepalLength(1st column) and PetalLength(3rd column) in iris_2d"
   ]
  },
  {
   "cell_type": "code",
   "execution_count": 64,
   "metadata": {},
   "outputs": [],
   "source": [
    "url = 'https://archive.ics.uci.edu/ml/machine-learning-databases/iris/iris.data'\n",
    "iris_2d = np.genfromtxt(url, delimiter=',', dtype='float', usecols=[0,1,2,3])"
   ]
  },
  {
   "cell_type": "code",
   "execution_count": 65,
   "metadata": {},
   "outputs": [
    {
     "data": {
      "text/plain": [
       "0.8717541573048714"
      ]
     },
     "execution_count": 65,
     "metadata": {},
     "output_type": "execute_result"
    }
   ],
   "source": [
    "np.corrcoef(iris_2d[:,0],iris_2d[:,2])[0,1]"
   ]
  },
  {
   "cell_type": "markdown",
   "metadata": {},
   "source": [
    "Find out if iris_2d has any missing values."
   ]
  },
  {
   "cell_type": "code",
   "execution_count": 66,
   "metadata": {},
   "outputs": [],
   "source": [
    "url = 'https://archive.ics.uci.edu/ml/machine-learning-databases/iris/iris.data'\n",
    "iris_2d = np.genfromtxt(url, delimiter=',', dtype='float', usecols=[0,1,2,3])"
   ]
  },
  {
   "cell_type": "code",
   "execution_count": 67,
   "metadata": {},
   "outputs": [
    {
     "data": {
      "text/plain": [
       "False"
      ]
     },
     "execution_count": 67,
     "metadata": {},
     "output_type": "execute_result"
    }
   ],
   "source": [
    "np.any(np.isnan(iris_2d))"
   ]
  },
  {
   "cell_type": "markdown",
   "metadata": {},
   "source": [
    "Replace all ccurrences of nan with 0 in numpy array"
   ]
  },
  {
   "cell_type": "code",
   "execution_count": 68,
   "metadata": {},
   "outputs": [],
   "source": [
    "url = 'https://archive.ics.uci.edu/ml/machine-learning-databases/iris/iris.data'\n",
    "iris_2d = np.genfromtxt(url, delimiter=',', dtype='float', usecols=[0,1,2,3])\n",
    "iris_2d[np.random.randint(150, size=20), np.random.randint(4, size=20)] = np.nan"
   ]
  },
  {
   "cell_type": "code",
   "execution_count": 69,
   "metadata": {},
   "outputs": [],
   "source": [
    "iris_2d[np.isnan(iris_2d)] = 0"
   ]
  },
  {
   "cell_type": "markdown",
   "metadata": {},
   "source": [
    "Find the unique values and the count of unique values in iris's species"
   ]
  },
  {
   "cell_type": "code",
   "execution_count": 70,
   "metadata": {},
   "outputs": [],
   "source": [
    "url = 'https://archive.ics.uci.edu/ml/machine-learning-databases/iris/iris.data'\n",
    "iris = np.genfromtxt(url, delimiter=',', dtype='object')\n",
    "names = ('sepallength', 'sepalwidth', 'petallength', 'petalwidth', 'species')"
   ]
  },
  {
   "cell_type": "code",
   "execution_count": 71,
   "metadata": {},
   "outputs": [
    {
     "data": {
      "text/plain": [
       "(array([b'Iris-setosa', b'Iris-versicolor', b'Iris-virginica'],\n",
       "       dtype=object), array([50, 50, 50], dtype=int64))"
      ]
     },
     "execution_count": 71,
     "metadata": {},
     "output_type": "execute_result"
    }
   ],
   "source": [
    "np.unique(iris[:,-1], return_counts=True)"
   ]
  },
  {
   "cell_type": "markdown",
   "metadata": {},
   "source": [
    "Bin the petal length (3rd) column of iris_2d to form a text array, such that if petal length is:"
   ]
  },
  {
   "cell_type": "code",
   "execution_count": 72,
   "metadata": {},
   "outputs": [],
   "source": [
    "url = 'https://archive.ics.uci.edu/ml/machine-learning-databases/iris/iris.data'\n",
    "iris = np.genfromtxt(url, delimiter=',', dtype='object')\n",
    "names = ('sepallength', 'sepalwidth', 'petallength', 'petalwidth', 'species')"
   ]
  },
  {
   "cell_type": "code",
   "execution_count": 73,
   "metadata": {},
   "outputs": [],
   "source": [
    "petal_length_bin = np.digitize(iris[:, 2].astype('float'), [0, 3, 5, 10])\n",
    "label_map = {1: 'small', 2: 'medium', 3: 'large', 4: np.nan}\n",
    "petal_length_cat = [label_map[x] for x in petal_length_bin]"
   ]
  },
  {
   "cell_type": "markdown",
   "metadata": {},
   "source": [
    "Create a new column for volume in iris_2d, where volume is (pi x petallength x sepal_length^2)/3"
   ]
  },
  {
   "cell_type": "code",
   "execution_count": 74,
   "metadata": {},
   "outputs": [],
   "source": [
    "url = 'https://archive.ics.uci.edu/ml/machine-learning-databases/iris/iris.data'\n",
    "iris_2d = np.genfromtxt(url, delimiter=',', dtype='object')\n",
    "names = ('sepallength', 'sepalwidth', 'petallength', 'petalwidth', 'species')"
   ]
  },
  {
   "cell_type": "code",
   "execution_count": 75,
   "metadata": {},
   "outputs": [
    {
     "data": {
      "text/plain": [
       "array([[b'5.1', b'3.5', b'1.4', b'0.2', b'Iris-setosa',\n",
       "        38.13265162927291],\n",
       "       [b'4.9', b'3.0', b'1.4', b'0.2', b'Iris-setosa',\n",
       "        35.200498485922445],\n",
       "       [b'4.7', b'3.2', b'1.3', b'0.2', b'Iris-setosa', 30.0723720777127],\n",
       "       [b'4.6', b'3.1', b'1.5', b'0.2', b'Iris-setosa',\n",
       "        33.238050274980004],\n",
       "       [b'5.0', b'3.6', b'1.4', b'0.2', b'Iris-setosa',\n",
       "        36.65191429188092],\n",
       "       [b'5.4', b'3.9', b'1.7', b'0.4', b'Iris-setosa',\n",
       "        51.911677007917746],\n",
       "       [b'4.6', b'3.4', b'1.4', b'0.3', b'Iris-setosa',\n",
       "        31.022180256648003],\n",
       "       [b'5.0', b'3.4', b'1.5', b'0.2', b'Iris-setosa',\n",
       "        39.269908169872416],\n",
       "       [b'4.4', b'2.9', b'1.4', b'0.2', b'Iris-setosa',\n",
       "        28.38324242763259],\n",
       "       [b'4.9', b'3.1', b'1.5', b'0.1', b'Iris-setosa',\n",
       "        37.714819806345474],\n",
       "       [b'5.4', b'3.7', b'1.5', b'0.2', b'Iris-setosa',\n",
       "        45.80442088933919],\n",
       "       [b'4.8', b'3.4', b'1.6', b'0.2', b'Iris-setosa',\n",
       "        38.60389052731138],\n",
       "       [b'4.8', b'3.0', b'1.4', b'0.1', b'Iris-setosa',\n",
       "        33.77840421139745],\n",
       "       [b'4.3', b'3.0', b'1.1', b'0.1', b'Iris-setosa',\n",
       "        21.298950993787603],\n",
       "       [b'5.8', b'4.0', b'1.2', b'0.2', b'Iris-setosa',\n",
       "        42.273270746704256],\n",
       "       [b'5.7', b'4.4', b'1.5', b'0.4', b'Iris-setosa',\n",
       "        51.03517265756619],\n",
       "       [b'5.4', b'3.9', b'1.3', b'0.4', b'Iris-setosa',\n",
       "        39.69716477076063],\n",
       "       [b'5.1', b'3.5', b'1.4', b'0.3', b'Iris-setosa',\n",
       "        38.13265162927291],\n",
       "       [b'5.7', b'3.8', b'1.7', b'0.3', b'Iris-setosa',\n",
       "        57.83986234524169],\n",
       "       [b'5.1', b'3.8', b'1.5', b'0.3', b'Iris-setosa',\n",
       "        40.85641245993526],\n",
       "       [b'5.4', b'3.4', b'1.7', b'0.2', b'Iris-setosa',\n",
       "        51.911677007917746],\n",
       "       [b'5.1', b'3.7', b'1.5', b'0.4', b'Iris-setosa',\n",
       "        40.85641245993526],\n",
       "       [b'4.6', b'3.6', b'1.0', b'0.2', b'Iris-setosa',\n",
       "        22.158700183320004],\n",
       "       [b'5.1', b'3.3', b'1.7', b'0.5', b'Iris-setosa',\n",
       "        46.303934121259964],\n",
       "       [b'4.8', b'3.4', b'1.9', b'0.2', b'Iris-setosa',\n",
       "        45.84212000118226],\n",
       "       [b'5.0', b'3.0', b'1.6', b'0.2', b'Iris-setosa',\n",
       "        41.88790204786391],\n",
       "       [b'5.0', b'3.4', b'1.6', b'0.4', b'Iris-setosa',\n",
       "        41.88790204786391],\n",
       "       [b'5.2', b'3.5', b'1.5', b'0.2', b'Iris-setosa',\n",
       "        42.47433267653401],\n",
       "       [b'5.2', b'3.4', b'1.4', b'0.2', b'Iris-setosa', 39.6427104980984],\n",
       "       [b'4.7', b'3.2', b'1.6', b'0.2', b'Iris-setosa',\n",
       "        37.01215024949256],\n",
       "       [b'4.8', b'3.1', b'1.6', b'0.2', b'Iris-setosa',\n",
       "        38.60389052731138],\n",
       "       [b'5.4', b'3.4', b'1.5', b'0.4', b'Iris-setosa',\n",
       "        45.80442088933919],\n",
       "       [b'5.2', b'4.1', b'1.5', b'0.1', b'Iris-setosa',\n",
       "        42.47433267653401],\n",
       "       [b'5.5', b'4.2', b'1.4', b'0.2', b'Iris-setosa',\n",
       "        44.34881629317591],\n",
       "       [b'4.9', b'3.1', b'1.5', b'0.1', b'Iris-setosa',\n",
       "        37.714819806345474],\n",
       "       [b'5.0', b'3.2', b'1.2', b'0.2', b'Iris-setosa',\n",
       "        31.415926535897928],\n",
       "       [b'5.5', b'3.5', b'1.3', b'0.2', b'Iris-setosa',\n",
       "        41.18104370080621],\n",
       "       [b'4.9', b'3.1', b'1.5', b'0.1', b'Iris-setosa',\n",
       "        37.714819806345474],\n",
       "       [b'4.4', b'3.0', b'1.3', b'0.2', b'Iris-setosa',\n",
       "        26.355867968515977],\n",
       "       [b'5.1', b'3.4', b'1.5', b'0.2', b'Iris-setosa',\n",
       "        40.85641245993526],\n",
       "       [b'5.0', b'3.5', b'1.3', b'0.3', b'Iris-setosa',\n",
       "        34.033920413889426],\n",
       "       [b'4.5', b'2.3', b'1.3', b'0.3', b'Iris-setosa',\n",
       "        27.567475535250434],\n",
       "       [b'4.4', b'3.2', b'1.3', b'0.2', b'Iris-setosa',\n",
       "        26.355867968515977],\n",
       "       [b'5.0', b'3.5', b'1.6', b'0.6', b'Iris-setosa',\n",
       "        41.88790204786391],\n",
       "       [b'5.1', b'3.8', b'1.9', b'0.4', b'Iris-setosa',\n",
       "        51.75145578258466],\n",
       "       [b'4.8', b'3.0', b'1.4', b'0.3', b'Iris-setosa',\n",
       "        33.77840421139745],\n",
       "       [b'5.1', b'3.8', b'1.6', b'0.2', b'Iris-setosa',\n",
       "        43.58017329059761],\n",
       "       [b'4.6', b'3.2', b'1.4', b'0.2', b'Iris-setosa',\n",
       "        31.022180256648003],\n",
       "       [b'5.3', b'3.7', b'1.5', b'0.2', b'Iris-setosa',\n",
       "        44.123668819668644],\n",
       "       [b'5.0', b'3.3', b'1.4', b'0.2', b'Iris-setosa',\n",
       "        36.65191429188092],\n",
       "       [b'7.0', b'3.2', b'4.7', b'1.4', b'Iris-versicolor',\n",
       "        241.16959604057647],\n",
       "       [b'6.4', b'3.2', b'4.5', b'1.5', b'Iris-versicolor',\n",
       "        193.01945263655693],\n",
       "       [b'6.9', b'3.1', b'4.9', b'1.5', b'Iris-versicolor',\n",
       "        244.29966952110314],\n",
       "       [b'5.5', b'2.3', b'4.0', b'1.3', b'Iris-versicolor',\n",
       "        126.71090369478833],\n",
       "       [b'6.5', b'2.8', b'4.6', b'1.5', b'Iris-versicolor',\n",
       "        203.52284407505874],\n",
       "       [b'5.7', b'2.8', b'4.5', b'1.3', b'Iris-versicolor',\n",
       "        153.10551797269858],\n",
       "       [b'6.3', b'3.3', b'4.7', b'1.6', b'Iris-versicolor',\n",
       "        195.34737279286693],\n",
       "       [b'4.9', b'2.4', b'3.3', b'1.0', b'Iris-versicolor',\n",
       "        82.97260357396004],\n",
       "       [b'6.6', b'2.9', b'4.6', b'1.3', b'Iris-versicolor',\n",
       "        209.8332565185694],\n",
       "       [b'5.2', b'2.7', b'3.9', b'1.4', b'Iris-versicolor',\n",
       "        110.43326495898843],\n",
       "       [b'5.0', b'2.0', b'3.5', b'1.0', b'Iris-versicolor',\n",
       "        91.62978572970229],\n",
       "       [b'5.9', b'3.0', b'4.2', b'1.5', b'Iris-versicolor',\n",
       "        153.102376380045],\n",
       "       [b'6.0', b'2.2', b'4.0', b'1.0', b'Iris-versicolor',\n",
       "        150.79644737231007],\n",
       "       [b'6.1', b'2.9', b'4.7', b'1.4', b'Iris-versicolor',\n",
       "        183.14123813611934],\n",
       "       [b'5.6', b'2.9', b'3.6', b'1.3', b'Iris-versicolor',\n",
       "        118.22441473989107],\n",
       "       [b'6.7', b'3.1', b'4.4', b'1.4', b'Iris-versicolor',\n",
       "        206.83827152214724],\n",
       "       [b'5.6', b'3.0', b'4.5', b'1.5', b'Iris-versicolor',\n",
       "        147.78051842486386],\n",
       "       [b'5.8', b'2.7', b'4.1', b'1.0', b'Iris-versicolor',\n",
       "        144.43367505123953],\n",
       "       [b'6.2', b'2.2', b'4.5', b'1.5', b'Iris-versicolor',\n",
       "        181.1442324059875],\n",
       "       [b'5.6', b'2.5', b'3.9', b'1.1', b'Iris-versicolor',\n",
       "        128.07644930154868],\n",
       "       [b'5.9', b'3.2', b'4.8', b'1.8', b'Iris-versicolor',\n",
       "        174.97414443433715],\n",
       "       [b'6.1', b'2.8', b'4.0', b'1.3', b'Iris-versicolor',\n",
       "        155.86488352010159],\n",
       "       [b'6.3', b'2.5', b'4.9', b'1.5', b'Iris-versicolor',\n",
       "        203.66002695426553],\n",
       "       [b'6.1', b'2.8', b'4.7', b'1.2', b'Iris-versicolor',\n",
       "        183.14123813611934],\n",
       "       [b'6.4', b'2.9', b'4.3', b'1.3', b'Iris-versicolor',\n",
       "        184.4408102971544],\n",
       "       [b'6.6', b'3.0', b'4.4', b'1.4', b'Iris-versicolor',\n",
       "        200.71007145254472],\n",
       "       [b'6.8', b'2.8', b'4.8', b'1.4', b'Iris-versicolor',\n",
       "        232.42759088318724],\n",
       "       [b'6.7', b'3.0', b'5.0', b'1.7', b'Iris-versicolor',\n",
       "        235.04349036607638],\n",
       "       [b'6.0', b'2.9', b'4.5', b'1.5', b'Iris-versicolor',\n",
       "        169.64600329384882],\n",
       "       [b'5.7', b'2.6', b'3.5', b'1.0', b'Iris-versicolor',\n",
       "        119.08206953432112],\n",
       "       [b'5.5', b'2.4', b'3.8', b'1.1', b'Iris-versicolor',\n",
       "        120.3753585100489],\n",
       "       [b'5.5', b'2.4', b'3.7', b'1.0', b'Iris-versicolor',\n",
       "        117.2075859176792],\n",
       "       [b'5.8', b'2.7', b'3.9', b'1.2', b'Iris-versicolor',\n",
       "        137.38812992678882],\n",
       "       [b'6.0', b'2.7', b'5.1', b'1.6', b'Iris-versicolor',\n",
       "        192.26547039969532],\n",
       "       [b'5.4', b'3.0', b'4.5', b'1.5', b'Iris-versicolor',\n",
       "        137.41326266801755],\n",
       "       [b'6.0', b'3.4', b'4.5', b'1.6', b'Iris-versicolor',\n",
       "        169.64600329384882],\n",
       "       [b'6.7', b'3.1', b'4.7', b'1.5', b'Iris-versicolor',\n",
       "        220.94088094411177],\n",
       "       [b'6.3', b'2.3', b'4.4', b'1.3', b'Iris-versicolor',\n",
       "        182.87839155076904],\n",
       "       [b'5.6', b'3.0', b'4.1', b'1.3', b'Iris-versicolor',\n",
       "        134.6444723426537],\n",
       "       [b'5.5', b'2.5', b'4.0', b'1.3', b'Iris-versicolor',\n",
       "        126.71090369478833],\n",
       "       [b'5.5', b'2.6', b'4.4', b'1.2', b'Iris-versicolor',\n",
       "        139.38199406426716],\n",
       "       [b'6.1', b'3.0', b'4.6', b'1.4', b'Iris-versicolor',\n",
       "        179.2446160481168],\n",
       "       [b'5.8', b'2.6', b'4.0', b'1.2', b'Iris-versicolor',\n",
       "        140.9109024890142],\n",
       "       [b'5.0', b'2.3', b'3.3', b'1.0', b'Iris-versicolor',\n",
       "        86.3937979737193],\n",
       "       [b'5.6', b'2.7', b'4.2', b'1.3', b'Iris-versicolor',\n",
       "        137.92848386320625],\n",
       "       [b'5.7', b'3.0', b'4.2', b'1.2', b'Iris-versicolor',\n",
       "        142.89848344118533],\n",
       "       [b'5.7', b'2.9', b'4.2', b'1.3', b'Iris-versicolor',\n",
       "        142.89848344118533],\n",
       "       [b'6.2', b'2.9', b'4.3', b'1.3', b'Iris-versicolor',\n",
       "        173.09337763238804],\n",
       "       [b'5.1', b'2.5', b'3.0', b'1.1', b'Iris-versicolor',\n",
       "        81.71282491987051],\n",
       "       [b'5.7', b'2.8', b'4.1', b'1.3', b'Iris-versicolor',\n",
       "        139.49613859734757],\n",
       "       [b'6.3', b'3.3', b'6.0', b'2.5', b'Iris-virginica',\n",
       "        249.37962484195774],\n",
       "       [b'5.8', b'2.7', b'5.1', b'1.9', b'Iris-virginica',\n",
       "        179.66140067349306],\n",
       "       [b'7.1', b'3.0', b'5.9', b'2.1', b'Iris-virginica',\n",
       "        311.4564484793409],\n",
       "       [b'6.3', b'2.9', b'5.6', b'1.8', b'Iris-virginica',\n",
       "        232.7543165191606],\n",
       "       [b'6.5', b'3.0', b'5.8', b'2.2', b'Iris-virginica',\n",
       "        256.61575992072625],\n",
       "       [b'7.6', b'3.0', b'6.6', b'2.1', b'Iris-virginica',\n",
       "        399.20846167696214],\n",
       "       [b'4.9', b'2.5', b'4.5', b'1.7', b'Iris-virginica',\n",
       "        113.14445941903642],\n",
       "       [b'7.3', b'2.9', b'6.3', b'1.8', b'Iris-virginica',\n",
       "        351.57249227058014],\n",
       "       [b'6.7', b'2.5', b'5.8', b'1.8', b'Iris-virginica',\n",
       "        272.65044882464855],\n",
       "       [b'7.2', b'3.6', b'6.1', b'2.5', b'Iris-virginica',\n",
       "        331.1489984295929],\n",
       "       [b'6.5', b'3.2', b'5.1', b'2.0', b'Iris-virginica',\n",
       "        225.64489234408688],\n",
       "       [b'6.4', b'2.7', b'5.3', b'1.9', b'Iris-virginica',\n",
       "        227.33402199416705],\n",
       "       [b'6.8', b'3.0', b'5.5', b'2.1', b'Iris-virginica',\n",
       "        266.3232812203187],\n",
       "       [b'5.7', b'2.5', b'5.0', b'2.0', b'Iris-virginica',\n",
       "        170.1172421918873],\n",
       "       [b'5.8', b'2.8', b'5.1', b'2.4', b'Iris-virginica',\n",
       "        179.66140067349306],\n",
       "       [b'6.4', b'3.2', b'5.3', b'2.3', b'Iris-virginica',\n",
       "        227.33402199416705],\n",
       "       [b'6.5', b'3.0', b'5.5', b'1.8', b'Iris-virginica',\n",
       "        243.34253095930936],\n",
       "       [b'7.7', b'3.8', b'6.7', b'2.2', b'Iris-virginica',\n",
       "        415.99189682999014],\n",
       "       [b'7.7', b'2.6', b'6.9', b'2.3', b'Iris-virginica',\n",
       "        428.4095653920794],\n",
       "       [b'6.0', b'2.2', b'5.0', b'1.5', b'Iris-virginica',\n",
       "        188.4955592153876],\n",
       "       [b'6.9', b'3.2', b'5.7', b'2.3', b'Iris-virginica',\n",
       "        284.1853298510792],\n",
       "       [b'5.6', b'2.8', b'4.9', b'2.0', b'Iris-virginica',\n",
       "        160.91656450707399],\n",
       "       [b'7.7', b'2.8', b'6.7', b'2.0', b'Iris-virginica',\n",
       "        415.99189682999014],\n",
       "       [b'6.3', b'2.7', b'4.9', b'1.8', b'Iris-virginica',\n",
       "        203.66002695426553],\n",
       "       [b'6.7', b'3.3', b'5.7', b'2.1', b'Iris-virginica',\n",
       "        267.94957901732704],\n",
       "       [b'7.2', b'3.2', b'6.0', b'1.8', b'Iris-virginica',\n",
       "        325.7203263241898],\n",
       "       [b'6.2', b'2.8', b'4.8', b'1.8', b'Iris-virginica',\n",
       "        193.22051456638667],\n",
       "       [b'6.1', b'3.0', b'4.9', b'1.8', b'Iris-virginica',\n",
       "        190.93448231212446],\n",
       "       [b'6.4', b'2.8', b'5.6', b'2.1', b'Iris-virginica',\n",
       "        240.20198550327083],\n",
       "       [b'7.2', b'3.0', b'5.8', b'1.6', b'Iris-virginica',\n",
       "        314.86298211338345],\n",
       "       [b'7.4', b'2.8', b'6.1', b'1.9', b'Iris-virginica',\n",
       "        349.8016812115067],\n",
       "       [b'7.9', b'3.8', b'6.4', b'2.0', b'Iris-virginica',\n",
       "        418.27583468914986],\n",
       "       [b'6.4', b'2.8', b'5.6', b'2.2', b'Iris-virginica',\n",
       "        240.20198550327083],\n",
       "       [b'6.3', b'2.8', b'5.1', b'1.5', b'Iris-virginica',\n",
       "        211.97268111566407],\n",
       "       [b'6.1', b'2.6', b'5.6', b'1.4', b'Iris-virginica',\n",
       "        218.2108369281422],\n",
       "       [b'7.7', b'3.0', b'6.1', b'2.3', b'Iris-virginica',\n",
       "        378.73889114372236],\n",
       "       [b'6.3', b'3.4', b'5.6', b'2.4', b'Iris-virginica',\n",
       "        232.7543165191606],\n",
       "       [b'6.4', b'3.1', b'5.5', b'1.8', b'Iris-virginica',\n",
       "        235.91266433356955],\n",
       "       [b'6.0', b'3.0', b'4.8', b'1.8', b'Iris-virginica',\n",
       "        180.95573684677208],\n",
       "       [b'6.9', b'3.1', b'5.4', b'2.1', b'Iris-virginica',\n",
       "        269.22820722733815],\n",
       "       [b'6.7', b'3.1', b'5.6', b'2.4', b'Iris-virginica',\n",
       "        263.24870921000553],\n",
       "       [b'6.9', b'3.1', b'5.1', b'2.3', b'Iris-virginica',\n",
       "        254.27108460359707],\n",
       "       [b'5.8', b'2.7', b'5.1', b'1.9', b'Iris-virginica',\n",
       "        179.66140067349306],\n",
       "       [b'6.8', b'3.2', b'5.9', b'2.3', b'Iris-virginica',\n",
       "        285.692247127251],\n",
       "       [b'6.7', b'3.3', b'5.7', b'2.5', b'Iris-virginica',\n",
       "        267.94957901732704],\n",
       "       [b'6.7', b'3.0', b'5.2', b'2.3', b'Iris-virginica',\n",
       "        244.4452299807194],\n",
       "       [b'6.3', b'2.5', b'5.0', b'1.9', b'Iris-virginica',\n",
       "        207.8163540349648],\n",
       "       [b'6.5', b'3.0', b'5.2', b'2.0', b'Iris-virginica',\n",
       "        230.0693019978925],\n",
       "       [b'6.2', b'3.4', b'5.4', b'2.3', b'Iris-virginica',\n",
       "        217.373078887185],\n",
       "       [b'5.9', b'3.0', b'5.1', b'1.8', b'Iris-virginica',\n",
       "        185.9100284614832]], dtype=object)"
      ]
     },
     "execution_count": 75,
     "metadata": {},
     "output_type": "execute_result"
    }
   ],
   "source": [
    "volume = [(np.pi * petal * (sepal**2))/3 for sepal,petal in iris_2d[:,[0,2]].astype('float')]\n",
    "np.c_[iris_2d,np.array(volume)]"
   ]
  },
  {
   "cell_type": "markdown",
   "metadata": {},
   "source": [
    "Randomly sample iris's species such that setose is twice the number of versicolor and virginica"
   ]
  },
  {
   "cell_type": "code",
   "execution_count": 76,
   "metadata": {},
   "outputs": [],
   "source": [
    "url = 'https://archive.ics.uci.edu/ml/machine-learning-databases/iris/iris.data'\n",
    "iris = np.genfromtxt(url, delimiter=',', dtype='object')"
   ]
  },
  {
   "cell_type": "code",
   "execution_count": 77,
   "metadata": {},
   "outputs": [
    {
     "data": {
      "text/plain": [
       "(array([b'Iris-setosa', b'Iris-versicolor', b'Iris-virginica'],\n",
       "       dtype=object), array([71, 40, 39], dtype=int64))"
      ]
     },
     "execution_count": 77,
     "metadata": {},
     "output_type": "execute_result"
    }
   ],
   "source": [
    "species = iris[:, -1]\n",
    "a = np.unique(species)\n",
    "species_out = np.random.choice(a,150,p=[0.5,0.25,0.25])\n",
    "np.unique(species_out, return_counts=True) # extracode"
   ]
  },
  {
   "cell_type": "markdown",
   "metadata": {},
   "source": [
    "What is the value of second longest petallength of species setosa"
   ]
  },
  {
   "cell_type": "code",
   "execution_count": 78,
   "metadata": {},
   "outputs": [],
   "source": [
    "url = 'https://archive.ics.uci.edu/ml/machine-learning-databases/iris/iris.data'\n",
    "iris = np.genfromtxt(url, delimiter=',', dtype='object')\n",
    "names = ('sepallength', 'sepalwidth', 'petallength', 'petalwidth', 'species')"
   ]
  },
  {
   "cell_type": "code",
   "execution_count": 79,
   "metadata": {},
   "outputs": [
    {
     "data": {
      "text/plain": [
       "1.7"
      ]
     },
     "execution_count": 79,
     "metadata": {},
     "output_type": "execute_result"
    }
   ],
   "source": [
    "np.unique(np.sort(iris[iris[:,4] == b'Iris-setosa', [2]].astype('float')))[-2]"
   ]
  },
  {
   "cell_type": "markdown",
   "metadata": {},
   "source": [
    "Sort the iris dataset based on sepallength column."
   ]
  },
  {
   "cell_type": "code",
   "execution_count": 80,
   "metadata": {},
   "outputs": [],
   "source": [
    "url = 'https://archive.ics.uci.edu/ml/machine-learning-databases/iris/iris.data'\n",
    "iris = np.genfromtxt(url, delimiter=',', dtype='object')\n",
    "names = ('sepallength', 'sepalwidth', 'petallength', 'petalwidth', 'species')"
   ]
  },
  {
   "cell_type": "code",
   "execution_count": 81,
   "metadata": {},
   "outputs": [
    {
     "data": {
      "text/plain": [
       "array([[b'4.3', b'3.0', b'1.1', b'0.1', b'Iris-setosa'],\n",
       "       [b'4.4', b'3.2', b'1.3', b'0.2', b'Iris-setosa'],\n",
       "       [b'4.4', b'3.0', b'1.3', b'0.2', b'Iris-setosa'],\n",
       "       [b'4.4', b'2.9', b'1.4', b'0.2', b'Iris-setosa'],\n",
       "       [b'4.5', b'2.3', b'1.3', b'0.3', b'Iris-setosa'],\n",
       "       [b'4.6', b'3.6', b'1.0', b'0.2', b'Iris-setosa'],\n",
       "       [b'4.6', b'3.1', b'1.5', b'0.2', b'Iris-setosa'],\n",
       "       [b'4.6', b'3.4', b'1.4', b'0.3', b'Iris-setosa'],\n",
       "       [b'4.6', b'3.2', b'1.4', b'0.2', b'Iris-setosa'],\n",
       "       [b'4.7', b'3.2', b'1.3', b'0.2', b'Iris-setosa'],\n",
       "       [b'4.7', b'3.2', b'1.6', b'0.2', b'Iris-setosa'],\n",
       "       [b'4.8', b'3.0', b'1.4', b'0.1', b'Iris-setosa'],\n",
       "       [b'4.8', b'3.0', b'1.4', b'0.3', b'Iris-setosa'],\n",
       "       [b'4.8', b'3.4', b'1.9', b'0.2', b'Iris-setosa'],\n",
       "       [b'4.8', b'3.4', b'1.6', b'0.2', b'Iris-setosa'],\n",
       "       [b'4.8', b'3.1', b'1.6', b'0.2', b'Iris-setosa'],\n",
       "       [b'4.9', b'2.4', b'3.3', b'1.0', b'Iris-versicolor'],\n",
       "       [b'4.9', b'2.5', b'4.5', b'1.7', b'Iris-virginica'],\n",
       "       [b'4.9', b'3.1', b'1.5', b'0.1', b'Iris-setosa'],\n",
       "       [b'4.9', b'3.1', b'1.5', b'0.1', b'Iris-setosa'],\n",
       "       [b'4.9', b'3.1', b'1.5', b'0.1', b'Iris-setosa'],\n",
       "       [b'4.9', b'3.0', b'1.4', b'0.2', b'Iris-setosa'],\n",
       "       [b'5.0', b'3.5', b'1.3', b'0.3', b'Iris-setosa'],\n",
       "       [b'5.0', b'3.4', b'1.6', b'0.4', b'Iris-setosa'],\n",
       "       [b'5.0', b'3.3', b'1.4', b'0.2', b'Iris-setosa'],\n",
       "       [b'5.0', b'3.2', b'1.2', b'0.2', b'Iris-setosa'],\n",
       "       [b'5.0', b'3.5', b'1.6', b'0.6', b'Iris-setosa'],\n",
       "       [b'5.0', b'2.0', b'3.5', b'1.0', b'Iris-versicolor'],\n",
       "       [b'5.0', b'3.4', b'1.5', b'0.2', b'Iris-setosa'],\n",
       "       [b'5.0', b'2.3', b'3.3', b'1.0', b'Iris-versicolor'],\n",
       "       [b'5.0', b'3.6', b'1.4', b'0.2', b'Iris-setosa'],\n",
       "       [b'5.0', b'3.0', b'1.6', b'0.2', b'Iris-setosa'],\n",
       "       [b'5.1', b'3.8', b'1.9', b'0.4', b'Iris-setosa'],\n",
       "       [b'5.1', b'3.8', b'1.6', b'0.2', b'Iris-setosa'],\n",
       "       [b'5.1', b'2.5', b'3.0', b'1.1', b'Iris-versicolor'],\n",
       "       [b'5.1', b'3.5', b'1.4', b'0.2', b'Iris-setosa'],\n",
       "       [b'5.1', b'3.4', b'1.5', b'0.2', b'Iris-setosa'],\n",
       "       [b'5.1', b'3.5', b'1.4', b'0.3', b'Iris-setosa'],\n",
       "       [b'5.1', b'3.3', b'1.7', b'0.5', b'Iris-setosa'],\n",
       "       [b'5.1', b'3.7', b'1.5', b'0.4', b'Iris-setosa'],\n",
       "       [b'5.1', b'3.8', b'1.5', b'0.3', b'Iris-setosa'],\n",
       "       [b'5.2', b'4.1', b'1.5', b'0.1', b'Iris-setosa'],\n",
       "       [b'5.2', b'3.4', b'1.4', b'0.2', b'Iris-setosa'],\n",
       "       [b'5.2', b'3.5', b'1.5', b'0.2', b'Iris-setosa'],\n",
       "       [b'5.2', b'2.7', b'3.9', b'1.4', b'Iris-versicolor'],\n",
       "       [b'5.3', b'3.7', b'1.5', b'0.2', b'Iris-setosa'],\n",
       "       [b'5.4', b'3.0', b'4.5', b'1.5', b'Iris-versicolor'],\n",
       "       [b'5.4', b'3.9', b'1.7', b'0.4', b'Iris-setosa'],\n",
       "       [b'5.4', b'3.4', b'1.7', b'0.2', b'Iris-setosa'],\n",
       "       [b'5.4', b'3.4', b'1.5', b'0.4', b'Iris-setosa'],\n",
       "       [b'5.4', b'3.7', b'1.5', b'0.2', b'Iris-setosa'],\n",
       "       [b'5.4', b'3.9', b'1.3', b'0.4', b'Iris-setosa'],\n",
       "       [b'5.5', b'3.5', b'1.3', b'0.2', b'Iris-setosa'],\n",
       "       [b'5.5', b'2.6', b'4.4', b'1.2', b'Iris-versicolor'],\n",
       "       [b'5.5', b'4.2', b'1.4', b'0.2', b'Iris-setosa'],\n",
       "       [b'5.5', b'2.3', b'4.0', b'1.3', b'Iris-versicolor'],\n",
       "       [b'5.5', b'2.4', b'3.7', b'1.0', b'Iris-versicolor'],\n",
       "       [b'5.5', b'2.4', b'3.8', b'1.1', b'Iris-versicolor'],\n",
       "       [b'5.5', b'2.5', b'4.0', b'1.3', b'Iris-versicolor'],\n",
       "       [b'5.6', b'3.0', b'4.1', b'1.3', b'Iris-versicolor'],\n",
       "       [b'5.6', b'2.8', b'4.9', b'2.0', b'Iris-virginica'],\n",
       "       [b'5.6', b'3.0', b'4.5', b'1.5', b'Iris-versicolor'],\n",
       "       [b'5.6', b'2.5', b'3.9', b'1.1', b'Iris-versicolor'],\n",
       "       [b'5.6', b'2.7', b'4.2', b'1.3', b'Iris-versicolor'],\n",
       "       [b'5.6', b'2.9', b'3.6', b'1.3', b'Iris-versicolor'],\n",
       "       [b'5.7', b'2.6', b'3.5', b'1.0', b'Iris-versicolor'],\n",
       "       [b'5.7', b'2.9', b'4.2', b'1.3', b'Iris-versicolor'],\n",
       "       [b'5.7', b'2.8', b'4.1', b'1.3', b'Iris-versicolor'],\n",
       "       [b'5.7', b'4.4', b'1.5', b'0.4', b'Iris-setosa'],\n",
       "       [b'5.7', b'2.8', b'4.5', b'1.3', b'Iris-versicolor'],\n",
       "       [b'5.7', b'2.5', b'5.0', b'2.0', b'Iris-virginica'],\n",
       "       [b'5.7', b'3.8', b'1.7', b'0.3', b'Iris-setosa'],\n",
       "       [b'5.7', b'3.0', b'4.2', b'1.2', b'Iris-versicolor'],\n",
       "       [b'5.8', b'2.7', b'4.1', b'1.0', b'Iris-versicolor'],\n",
       "       [b'5.8', b'4.0', b'1.2', b'0.2', b'Iris-setosa'],\n",
       "       [b'5.8', b'2.6', b'4.0', b'1.2', b'Iris-versicolor'],\n",
       "       [b'5.8', b'2.8', b'5.1', b'2.4', b'Iris-virginica'],\n",
       "       [b'5.8', b'2.7', b'5.1', b'1.9', b'Iris-virginica'],\n",
       "       [b'5.8', b'2.7', b'3.9', b'1.2', b'Iris-versicolor'],\n",
       "       [b'5.8', b'2.7', b'5.1', b'1.9', b'Iris-virginica'],\n",
       "       [b'5.9', b'3.0', b'5.1', b'1.8', b'Iris-virginica'],\n",
       "       [b'5.9', b'3.0', b'4.2', b'1.5', b'Iris-versicolor'],\n",
       "       [b'5.9', b'3.2', b'4.8', b'1.8', b'Iris-versicolor'],\n",
       "       [b'6.0', b'2.9', b'4.5', b'1.5', b'Iris-versicolor'],\n",
       "       [b'6.0', b'2.7', b'5.1', b'1.6', b'Iris-versicolor'],\n",
       "       [b'6.0', b'3.0', b'4.8', b'1.8', b'Iris-virginica'],\n",
       "       [b'6.0', b'3.4', b'4.5', b'1.6', b'Iris-versicolor'],\n",
       "       [b'6.0', b'2.2', b'4.0', b'1.0', b'Iris-versicolor'],\n",
       "       [b'6.0', b'2.2', b'5.0', b'1.5', b'Iris-virginica'],\n",
       "       [b'6.1', b'3.0', b'4.9', b'1.8', b'Iris-virginica'],\n",
       "       [b'6.1', b'2.6', b'5.6', b'1.4', b'Iris-virginica'],\n",
       "       [b'6.1', b'2.8', b'4.0', b'1.3', b'Iris-versicolor'],\n",
       "       [b'6.1', b'2.9', b'4.7', b'1.4', b'Iris-versicolor'],\n",
       "       [b'6.1', b'2.8', b'4.7', b'1.2', b'Iris-versicolor'],\n",
       "       [b'6.1', b'3.0', b'4.6', b'1.4', b'Iris-versicolor'],\n",
       "       [b'6.2', b'2.2', b'4.5', b'1.5', b'Iris-versicolor'],\n",
       "       [b'6.2', b'2.9', b'4.3', b'1.3', b'Iris-versicolor'],\n",
       "       [b'6.2', b'3.4', b'5.4', b'2.3', b'Iris-virginica'],\n",
       "       [b'6.2', b'2.8', b'4.8', b'1.8', b'Iris-virginica'],\n",
       "       [b'6.3', b'2.5', b'4.9', b'1.5', b'Iris-versicolor'],\n",
       "       [b'6.3', b'2.7', b'4.9', b'1.8', b'Iris-virginica'],\n",
       "       [b'6.3', b'2.5', b'5.0', b'1.9', b'Iris-virginica'],\n",
       "       [b'6.3', b'3.3', b'4.7', b'1.6', b'Iris-versicolor'],\n",
       "       [b'6.3', b'2.8', b'5.1', b'1.5', b'Iris-virginica'],\n",
       "       [b'6.3', b'3.3', b'6.0', b'2.5', b'Iris-virginica'],\n",
       "       [b'6.3', b'2.3', b'4.4', b'1.3', b'Iris-versicolor'],\n",
       "       [b'6.3', b'3.4', b'5.6', b'2.4', b'Iris-virginica'],\n",
       "       [b'6.3', b'2.9', b'5.6', b'1.8', b'Iris-virginica'],\n",
       "       [b'6.4', b'2.8', b'5.6', b'2.2', b'Iris-virginica'],\n",
       "       [b'6.4', b'2.8', b'5.6', b'2.1', b'Iris-virginica'],\n",
       "       [b'6.4', b'3.1', b'5.5', b'1.8', b'Iris-virginica'],\n",
       "       [b'6.4', b'3.2', b'4.5', b'1.5', b'Iris-versicolor'],\n",
       "       [b'6.4', b'3.2', b'5.3', b'2.3', b'Iris-virginica'],\n",
       "       [b'6.4', b'2.9', b'4.3', b'1.3', b'Iris-versicolor'],\n",
       "       [b'6.4', b'2.7', b'5.3', b'1.9', b'Iris-virginica'],\n",
       "       [b'6.5', b'3.0', b'5.8', b'2.2', b'Iris-virginica'],\n",
       "       [b'6.5', b'3.0', b'5.5', b'1.8', b'Iris-virginica'],\n",
       "       [b'6.5', b'3.0', b'5.2', b'2.0', b'Iris-virginica'],\n",
       "       [b'6.5', b'2.8', b'4.6', b'1.5', b'Iris-versicolor'],\n",
       "       [b'6.5', b'3.2', b'5.1', b'2.0', b'Iris-virginica'],\n",
       "       [b'6.6', b'2.9', b'4.6', b'1.3', b'Iris-versicolor'],\n",
       "       [b'6.6', b'3.0', b'4.4', b'1.4', b'Iris-versicolor'],\n",
       "       [b'6.7', b'3.1', b'4.7', b'1.5', b'Iris-versicolor'],\n",
       "       [b'6.7', b'3.1', b'5.6', b'2.4', b'Iris-virginica'],\n",
       "       [b'6.7', b'2.5', b'5.8', b'1.8', b'Iris-virginica'],\n",
       "       [b'6.7', b'3.0', b'5.0', b'1.7', b'Iris-versicolor'],\n",
       "       [b'6.7', b'3.1', b'4.4', b'1.4', b'Iris-versicolor'],\n",
       "       [b'6.7', b'3.3', b'5.7', b'2.5', b'Iris-virginica'],\n",
       "       [b'6.7', b'3.0', b'5.2', b'2.3', b'Iris-virginica'],\n",
       "       [b'6.7', b'3.3', b'5.7', b'2.1', b'Iris-virginica'],\n",
       "       [b'6.8', b'3.2', b'5.9', b'2.3', b'Iris-virginica'],\n",
       "       [b'6.8', b'2.8', b'4.8', b'1.4', b'Iris-versicolor'],\n",
       "       [b'6.8', b'3.0', b'5.5', b'2.1', b'Iris-virginica'],\n",
       "       [b'6.9', b'3.1', b'5.4', b'2.1', b'Iris-virginica'],\n",
       "       [b'6.9', b'3.1', b'5.1', b'2.3', b'Iris-virginica'],\n",
       "       [b'6.9', b'3.1', b'4.9', b'1.5', b'Iris-versicolor'],\n",
       "       [b'6.9', b'3.2', b'5.7', b'2.3', b'Iris-virginica'],\n",
       "       [b'7.0', b'3.2', b'4.7', b'1.4', b'Iris-versicolor'],\n",
       "       [b'7.1', b'3.0', b'5.9', b'2.1', b'Iris-virginica'],\n",
       "       [b'7.2', b'3.0', b'5.8', b'1.6', b'Iris-virginica'],\n",
       "       [b'7.2', b'3.2', b'6.0', b'1.8', b'Iris-virginica'],\n",
       "       [b'7.2', b'3.6', b'6.1', b'2.5', b'Iris-virginica'],\n",
       "       [b'7.3', b'2.9', b'6.3', b'1.8', b'Iris-virginica'],\n",
       "       [b'7.4', b'2.8', b'6.1', b'1.9', b'Iris-virginica'],\n",
       "       [b'7.6', b'3.0', b'6.6', b'2.1', b'Iris-virginica'],\n",
       "       [b'7.7', b'2.8', b'6.7', b'2.0', b'Iris-virginica'],\n",
       "       [b'7.7', b'2.6', b'6.9', b'2.3', b'Iris-virginica'],\n",
       "       [b'7.7', b'3.8', b'6.7', b'2.2', b'Iris-virginica'],\n",
       "       [b'7.7', b'3.0', b'6.1', b'2.3', b'Iris-virginica'],\n",
       "       [b'7.9', b'3.8', b'6.4', b'2.0', b'Iris-virginica']], dtype=object)"
      ]
     },
     "execution_count": 81,
     "metadata": {},
     "output_type": "execute_result"
    }
   ],
   "source": [
    "iris[iris[:,0].argsort()]"
   ]
  },
  {
   "cell_type": "markdown",
   "metadata": {},
   "source": [
    "Find the most frequent value of petal length (3rd column) in iris dataset."
   ]
  },
  {
   "cell_type": "code",
   "execution_count": 82,
   "metadata": {},
   "outputs": [],
   "source": [
    "url = 'https://archive.ics.uci.edu/ml/machine-learning-databases/iris/iris.data'\n",
    "iris = np.genfromtxt(url, delimiter=',', dtype='object')\n",
    "names = ('sepallength', 'sepalwidth', 'petallength', 'petalwidth', 'species')"
   ]
  },
  {
   "cell_type": "code",
   "execution_count": 83,
   "metadata": {},
   "outputs": [
    {
     "data": {
      "text/plain": [
       "b'1.5'"
      ]
     },
     "execution_count": 83,
     "metadata": {},
     "output_type": "execute_result"
    }
   ],
   "source": [
    "vals, counts = np.unique(iris[:,2],return_counts=True)\n",
    "vals[np.argmax(counts)]"
   ]
  },
  {
   "cell_type": "markdown",
   "metadata": {},
   "source": [
    "Find the position of the first occurrence of a value greater than 1.0 in petalwidth 4th column of iris dataset."
   ]
  },
  {
   "cell_type": "code",
   "execution_count": 84,
   "metadata": {},
   "outputs": [],
   "source": [
    "url = 'https://archive.ics.uci.edu/ml/machine-learning-databases/iris/iris.data'\n",
    "iris = np.genfromtxt(url, delimiter=',', dtype='float')"
   ]
  },
  {
   "cell_type": "code",
   "execution_count": 85,
   "metadata": {},
   "outputs": [
    {
     "data": {
      "text/plain": [
       "array([50], dtype=int64)"
      ]
     },
     "execution_count": 85,
     "metadata": {},
     "output_type": "execute_result"
    }
   ],
   "source": [
    "np.argwhere(iris[:, 3] > 1)[0]"
   ]
  },
  {
   "cell_type": "markdown",
   "metadata": {},
   "source": [
    "From the array a, replace all values greater than 30 to 30 and less than 10 to 10."
   ]
  },
  {
   "cell_type": "code",
   "execution_count": 86,
   "metadata": {},
   "outputs": [
    {
     "data": {
      "text/plain": [
       "array([27.627, 14.64 , 21.801, 42.394,  1.231,  6.957, 33.867, 41.467,\n",
       "        7.699, 29.18 , 44.675, 11.251, 10.081,  6.31 , 11.765, 48.953,\n",
       "       40.772,  9.425, 40.995, 14.43 ])"
      ]
     },
     "execution_count": 86,
     "metadata": {},
     "output_type": "execute_result"
    }
   ],
   "source": [
    "np.random.seed(100)\n",
    "a = np.random.uniform(1,50, 20)\n",
    "a"
   ]
  },
  {
   "cell_type": "code",
   "execution_count": 87,
   "metadata": {},
   "outputs": [
    {
     "data": {
      "text/plain": [
       "array([27.627, 14.64 , 21.801, 30.   , 10.   , 10.   , 30.   , 30.   ,\n",
       "       10.   , 29.18 , 30.   , 11.251, 10.081, 10.   , 11.765, 30.   ,\n",
       "       30.   , 10.   , 30.   , 14.43 ])"
      ]
     },
     "execution_count": 87,
     "metadata": {},
     "output_type": "execute_result"
    }
   ],
   "source": [
    "np.clip(a,10,30)"
   ]
  },
  {
   "cell_type": "markdown",
   "metadata": {},
   "source": [
    "Get the positions of top 5 maximum values in a given array a."
   ]
  },
  {
   "cell_type": "code",
   "execution_count": 88,
   "metadata": {},
   "outputs": [],
   "source": [
    "np.random.seed(100)\n",
    "a = np.random.uniform(1,50, 20)"
   ]
  },
  {
   "cell_type": "code",
   "execution_count": 89,
   "metadata": {},
   "outputs": [
    {
     "data": {
      "text/plain": [
       "array([18,  7,  3, 10, 15], dtype=int64)"
      ]
     },
     "execution_count": 89,
     "metadata": {},
     "output_type": "execute_result"
    }
   ],
   "source": [
    "np.argsort(a)[-5:]"
   ]
  },
  {
   "cell_type": "markdown",
   "metadata": {},
   "source": [
    "Compute the counts of unique values row-wise."
   ]
  },
  {
   "cell_type": "code",
   "execution_count": 90,
   "metadata": {},
   "outputs": [
    {
     "data": {
      "text/plain": [
       "array([[ 9,  9,  4,  8,  8,  1,  5,  3,  6,  3],\n",
       "       [ 3,  3,  2,  1,  9,  5,  1, 10,  7,  3],\n",
       "       [ 5,  2,  6,  4,  5,  5,  4,  8,  2,  2],\n",
       "       [ 8,  8,  1,  3, 10, 10,  4,  3,  6,  9],\n",
       "       [ 2,  1,  8,  7,  3,  1,  9,  3,  6,  2],\n",
       "       [ 9,  2,  6,  5,  3,  9,  4,  6,  1, 10]])"
      ]
     },
     "execution_count": 90,
     "metadata": {},
     "output_type": "execute_result"
    }
   ],
   "source": [
    "np.random.seed(100)\n",
    "arr = np.random.randint(1,11,size=(6, 10))\n",
    "arr"
   ]
  },
  {
   "cell_type": "code",
   "execution_count": 91,
   "metadata": {},
   "outputs": [
    {
     "data": {
      "text/plain": [
       "array([[1, 0, 2, 1, 1, 1, 0, 2, 2, 0],\n",
       "       [2, 1, 3, 0, 1, 0, 1, 0, 1, 1],\n",
       "       [0, 3, 0, 2, 3, 1, 0, 1, 0, 0],\n",
       "       [1, 0, 2, 1, 0, 1, 0, 2, 1, 2],\n",
       "       [2, 2, 2, 0, 0, 1, 1, 1, 1, 0],\n",
       "       [1, 1, 1, 1, 1, 2, 0, 0, 2, 1]], dtype=uint8)"
      ]
     },
     "execution_count": 91,
     "metadata": {},
     "output_type": "execute_result"
    }
   ],
   "source": [
    "result = []\n",
    "for a in arr:\n",
    "    dic = dict(zip(range(1, 11), np.repeat(0,10)))\n",
    "    index, counts = np.unique(a, return_counts = True)\n",
    "    for b,c in zip(index,counts):\n",
    "        dic.update({b:c})\n",
    "    result.append(list(dic.values()))\n",
    "np.array(result, np.uint8)"
   ]
  },
  {
   "cell_type": "markdown",
   "metadata": {},
   "source": [
    "Convert array_of_arrays into a flat linear 1d array."
   ]
  },
  {
   "cell_type": "code",
   "execution_count": 92,
   "metadata": {},
   "outputs": [
    {
     "data": {
      "text/plain": [
       "array([array([0, 1, 2]), array([3, 4, 5, 6]), array([7, 8, 9])],\n",
       "      dtype=object)"
      ]
     },
     "execution_count": 92,
     "metadata": {},
     "output_type": "execute_result"
    }
   ],
   "source": [
    "arr1 = np.arange(3)\n",
    "arr2 = np.arange(3,7)\n",
    "arr3 = np.arange(7,10)\n",
    "\n",
    "array_of_arrays = np.array([arr1, arr2, arr3])\n",
    "array_of_arrays"
   ]
  },
  {
   "cell_type": "code",
   "execution_count": 93,
   "metadata": {},
   "outputs": [
    {
     "data": {
      "text/plain": [
       "array([0, 1, 2, 3, 4, 5, 6, 7, 8, 9])"
      ]
     },
     "execution_count": 93,
     "metadata": {},
     "output_type": "execute_result"
    }
   ],
   "source": [
    "np.hstack(array_of_arrays)"
   ]
  },
  {
   "cell_type": "markdown",
   "metadata": {},
   "source": [
    "Compute the one-hot encodings (dummy binary variables for each unique value in the array)"
   ]
  },
  {
   "cell_type": "code",
   "execution_count": 94,
   "metadata": {},
   "outputs": [
    {
     "data": {
      "text/plain": [
       "array([2, 3, 2, 2, 2, 1, 1, 1])"
      ]
     },
     "execution_count": 94,
     "metadata": {},
     "output_type": "execute_result"
    }
   ],
   "source": [
    "np.random.seed(101) \n",
    "arr = np.random.randint(1,4, size=8)\n",
    "arr"
   ]
  },
  {
   "cell_type": "code",
   "execution_count": 95,
   "metadata": {},
   "outputs": [
    {
     "data": {
      "text/plain": [
       "array([[0., 1., 0.],\n",
       "       [0., 0., 1.],\n",
       "       [0., 1., 0.],\n",
       "       [0., 1., 0.],\n",
       "       [0., 1., 0.],\n",
       "       [1., 0., 0.],\n",
       "       [1., 0., 0.],\n",
       "       [1., 0., 0.]])"
      ]
     },
     "execution_count": 95,
     "metadata": {},
     "output_type": "execute_result"
    }
   ],
   "source": [
    "result = []\n",
    "for a in arr:\n",
    "    res = np.zeros(3)\n",
    "    res[a-1] = 1\n",
    "    result = np.concatenate((result,res))\n",
    "result.reshape(-1,3)"
   ]
  },
  {
   "cell_type": "markdown",
   "metadata": {},
   "source": [
    "Create row numbers grouped by a categorical variable. Use the following sample from iris species as input."
   ]
  },
  {
   "cell_type": "code",
   "execution_count": 96,
   "metadata": {},
   "outputs": [
    {
     "data": {
      "text/plain": [
       "array(['Iris-setosa', 'Iris-setosa', 'Iris-setosa', 'Iris-setosa',\n",
       "       'Iris-setosa', 'Iris-versicolor', 'Iris-versicolor',\n",
       "       'Iris-versicolor', 'Iris-versicolor', 'Iris-versicolor',\n",
       "       'Iris-versicolor', 'Iris-virginica', 'Iris-virginica',\n",
       "       'Iris-virginica', 'Iris-virginica', 'Iris-virginica',\n",
       "       'Iris-virginica', 'Iris-virginica', 'Iris-virginica',\n",
       "       'Iris-virginica'], dtype='<U15')"
      ]
     },
     "execution_count": 96,
     "metadata": {},
     "output_type": "execute_result"
    }
   ],
   "source": [
    "url = 'https://archive.ics.uci.edu/ml/machine-learning-databases/iris/iris.data'\n",
    "species = np.genfromtxt(url, delimiter=',', dtype='str', usecols=4)\n",
    "species_small = np.sort(np.random.choice(species, size=20))\n",
    "species_small"
   ]
  },
  {
   "cell_type": "code",
   "execution_count": 97,
   "metadata": {},
   "outputs": [
    {
     "name": "stdout",
     "output_type": "stream",
     "text": [
      "[0, 1, 2, 3, 4, 0, 1, 2, 3, 4, 5, 0, 1, 2, 3, 4, 5, 6, 7, 8]\n"
     ]
    }
   ],
   "source": [
    "print([i for val in np.unique(species_small) for i, grp in enumerate(species_small[species_small==val])])"
   ]
  },
  {
   "cell_type": "markdown",
   "metadata": {},
   "source": [
    "Create group ids based on a given categorical variable. Use the following sample from iris species as input."
   ]
  },
  {
   "cell_type": "code",
   "execution_count": 98,
   "metadata": {},
   "outputs": [
    {
     "data": {
      "text/plain": [
       "array(['Iris-setosa', 'Iris-setosa', 'Iris-setosa', 'Iris-setosa',\n",
       "       'Iris-setosa', 'Iris-setosa', 'Iris-versicolor', 'Iris-versicolor',\n",
       "       'Iris-versicolor', 'Iris-versicolor', 'Iris-versicolor',\n",
       "       'Iris-virginica', 'Iris-virginica', 'Iris-virginica',\n",
       "       'Iris-virginica', 'Iris-virginica', 'Iris-virginica',\n",
       "       'Iris-virginica', 'Iris-virginica', 'Iris-virginica'], dtype='<U15')"
      ]
     },
     "execution_count": 98,
     "metadata": {},
     "output_type": "execute_result"
    }
   ],
   "source": [
    "url = 'https://archive.ics.uci.edu/ml/machine-learning-databases/iris/iris.data'\n",
    "species = np.genfromtxt(url, delimiter=',', dtype='str', usecols=4)\n",
    "species_small = np.sort(np.random.choice(species, size=20))\n",
    "species_small"
   ]
  },
  {
   "cell_type": "code",
   "execution_count": 99,
   "metadata": {},
   "outputs": [
    {
     "data": {
      "text/plain": [
       "array([0, 0, 0, 0, 0, 0, 1, 1, 1, 1, 1, 2, 2, 2, 2, 2, 2, 2, 2, 2])"
      ]
     },
     "execution_count": 99,
     "metadata": {},
     "output_type": "execute_result"
    }
   ],
   "source": [
    "index = enumerate(np.unique(species_small))\n",
    "for a,b in index:\n",
    "    species_small[species_small == b] = a\n",
    "species_small.astype('int')"
   ]
  },
  {
   "cell_type": "markdown",
   "metadata": {},
   "source": [
    "Create the ranks for the given numeric array a."
   ]
  },
  {
   "cell_type": "code",
   "execution_count": 100,
   "metadata": {},
   "outputs": [
    {
     "data": {
      "text/plain": [
       "array([ 9,  4, 15,  0, 17, 16, 17,  8,  9,  0])"
      ]
     },
     "execution_count": 100,
     "metadata": {},
     "output_type": "execute_result"
    }
   ],
   "source": [
    "np.random.seed(10)\n",
    "a = np.random.randint(20, size=10)\n",
    "a"
   ]
  },
  {
   "cell_type": "code",
   "execution_count": 101,
   "metadata": {},
   "outputs": [],
   "source": [
    "a[np.argsort(a)] = range(10)"
   ]
  },
  {
   "cell_type": "markdown",
   "metadata": {},
   "source": [
    "Create a rank array of the same shape as a given numeric array a."
   ]
  },
  {
   "cell_type": "code",
   "execution_count": 102,
   "metadata": {},
   "outputs": [
    {
     "data": {
      "text/plain": [
       "array([[ 9,  4, 15,  0, 17],\n",
       "       [16, 17,  8,  9,  0]])"
      ]
     },
     "execution_count": 102,
     "metadata": {},
     "output_type": "execute_result"
    }
   ],
   "source": [
    "np.random.seed(10)\n",
    "a = np.random.randint(20, size=[2,5])\n",
    "a"
   ]
  },
  {
   "cell_type": "code",
   "execution_count": 103,
   "metadata": {},
   "outputs": [
    {
     "data": {
      "text/plain": [
       "array([[4, 2, 6, 0, 8],\n",
       "       [7, 9, 3, 5, 1]], dtype=int64)"
      ]
     },
     "execution_count": 103,
     "metadata": {},
     "output_type": "execute_result"
    }
   ],
   "source": [
    "np.concatenate(a).argsort().argsort().reshape(a.shape)"
   ]
  },
  {
   "cell_type": "markdown",
   "metadata": {},
   "source": [
    "Compute the maximum for each row in the given array."
   ]
  },
  {
   "cell_type": "code",
   "execution_count": 104,
   "metadata": {},
   "outputs": [
    {
     "data": {
      "text/plain": [
       "array([[9, 9, 4],\n",
       "       [8, 8, 1],\n",
       "       [5, 3, 6],\n",
       "       [3, 3, 3],\n",
       "       [2, 1, 9]])"
      ]
     },
     "execution_count": 104,
     "metadata": {},
     "output_type": "execute_result"
    }
   ],
   "source": [
    "np.random.seed(100)\n",
    "a = np.random.randint(1,10, [5,3])\n",
    "a"
   ]
  },
  {
   "cell_type": "code",
   "execution_count": 105,
   "metadata": {},
   "outputs": [
    {
     "data": {
      "text/plain": [
       "array([9, 8, 6, 3, 9])"
      ]
     },
     "execution_count": 105,
     "metadata": {},
     "output_type": "execute_result"
    }
   ],
   "source": [
    "np.amax(a,axis=1) # or [max(b) for b in a]"
   ]
  },
  {
   "cell_type": "markdown",
   "metadata": {},
   "source": [
    "Compute the min-by-max for each row for given 2d numpy array."
   ]
  },
  {
   "cell_type": "code",
   "execution_count": 106,
   "metadata": {},
   "outputs": [
    {
     "data": {
      "text/plain": [
       "array([0.444, 0.125, 0.5  , 1.   , 0.111])"
      ]
     },
     "execution_count": 106,
     "metadata": {},
     "output_type": "execute_result"
    }
   ],
   "source": [
    "np.amin(a,axis=1)/np.amax(a,axis=1)"
   ]
  },
  {
   "cell_type": "markdown",
   "metadata": {},
   "source": [
    "Find the duplicate entries (2nd occurrence onwards) in the given numpy array and mark them as True. First time occurrences should be False."
   ]
  },
  {
   "cell_type": "code",
   "execution_count": 107,
   "metadata": {},
   "outputs": [
    {
     "data": {
      "text/plain": [
       "array([0, 0, 3, 0, 2, 4, 2, 2, 2, 2])"
      ]
     },
     "execution_count": 107,
     "metadata": {},
     "output_type": "execute_result"
    }
   ],
   "source": [
    "np.random.seed(100)\n",
    "a = np.random.randint(0, 5, 10)\n",
    "a"
   ]
  },
  {
   "cell_type": "code",
   "execution_count": 108,
   "metadata": {},
   "outputs": [
    {
     "data": {
      "text/plain": [
       "array([False,  True, False,  True, False, False,  True,  True,  True,\n",
       "        True])"
      ]
     },
     "execution_count": 108,
     "metadata": {},
     "output_type": "execute_result"
    }
   ],
   "source": [
    "out = np.full(a.shape[0], True)\n",
    "unique_positions = np.unique(a, return_index=True)[1]\n",
    "out[unique_positions] = False\n",
    "out"
   ]
  },
  {
   "cell_type": "markdown",
   "metadata": {},
   "source": [
    "Find the mean of a numeric column grouped by a categorical column in a 2D numpy array"
   ]
  },
  {
   "cell_type": "code",
   "execution_count": 109,
   "metadata": {},
   "outputs": [],
   "source": [
    "url = 'https://archive.ics.uci.edu/ml/machine-learning-databases/iris/iris.data'\n",
    "iris = np.genfromtxt(url, delimiter=',', dtype='object')\n",
    "names = ('sepallength', 'sepalwidth', 'petallength', 'petalwidth', 'species')"
   ]
  },
  {
   "cell_type": "code",
   "execution_count": 110,
   "metadata": {},
   "outputs": [
    {
     "data": {
      "text/plain": [
       "[3.418, 2.7700000000000005, 2.974]"
      ]
     },
     "execution_count": 110,
     "metadata": {},
     "output_type": "execute_result"
    }
   ],
   "source": [
    "[np.mean(iris[iris[:,-1] == s][:,1].astype('float')) for s in np.unique(iris[:,-1])]"
   ]
  },
  {
   "cell_type": "markdown",
   "metadata": {},
   "source": [
    "Import the image from the following URL and convert it to a numpy array."
   ]
  },
  {
   "cell_type": "code",
   "execution_count": 111,
   "metadata": {},
   "outputs": [],
   "source": [
    "URL = 'https://upload.wikimedia.org/wikipedia/commons/8/8b/Denali_Mt_McKinley.jpg'"
   ]
  },
  {
   "cell_type": "code",
   "execution_count": 112,
   "metadata": {},
   "outputs": [],
   "source": [
    "from io import BytesIO\n",
    "from PIL import Image\n",
    "import PIL, requests\n",
    "response = requests.get(URL)"
   ]
  },
  {
   "cell_type": "code",
   "execution_count": 113,
   "metadata": {},
   "outputs": [],
   "source": [
    "I = Image.open(BytesIO(response.content))\n",
    "I = I.resize([150,150])\n",
    "arr = np.asarray(I)"
   ]
  },
  {
   "cell_type": "markdown",
   "metadata": {},
   "source": [
    "Drop all nan values from a 1D numpy array"
   ]
  },
  {
   "cell_type": "code",
   "execution_count": 114,
   "metadata": {},
   "outputs": [],
   "source": [
    "arr = np.array([1,2,3,np.nan,5,6,7,np.nan])"
   ]
  },
  {
   "cell_type": "code",
   "execution_count": 115,
   "metadata": {},
   "outputs": [
    {
     "data": {
      "text/plain": [
       "array([1., 2., 3., 5., 6., 7.])"
      ]
     },
     "execution_count": 115,
     "metadata": {},
     "output_type": "execute_result"
    }
   ],
   "source": [
    "arr[~np.isnan(arr)]"
   ]
  },
  {
   "cell_type": "markdown",
   "metadata": {},
   "source": [
    "Compute the euclidean distance between two arrays a and b"
   ]
  },
  {
   "cell_type": "code",
   "execution_count": 116,
   "metadata": {},
   "outputs": [],
   "source": [
    "a = np.array([1,2,3,4,5])\n",
    "b = np.array([4,5,6,7,8])"
   ]
  },
  {
   "cell_type": "code",
   "execution_count": 117,
   "metadata": {},
   "outputs": [
    {
     "data": {
      "text/plain": [
       "6.708203932499369"
      ]
     },
     "execution_count": 117,
     "metadata": {},
     "output_type": "execute_result"
    }
   ],
   "source": [
    "np.linalg.norm(a-b)"
   ]
  },
  {
   "cell_type": "markdown",
   "metadata": {},
   "source": [
    "Find all the peaks in a 1D numpy array a. Peaks are points surrounded by smaller values on both sides."
   ]
  },
  {
   "cell_type": "code",
   "execution_count": 118,
   "metadata": {},
   "outputs": [],
   "source": [
    "a = np.array([1, 3, 7, 1, 2, 6, 0, 1])"
   ]
  },
  {
   "cell_type": "code",
   "execution_count": 119,
   "metadata": {},
   "outputs": [
    {
     "data": {
      "text/plain": [
       "array([2, 5], dtype=int64)"
      ]
     },
     "execution_count": 119,
     "metadata": {},
     "output_type": "execute_result"
    }
   ],
   "source": [
    "doublediff = np.diff(np.sign(np.diff(a)))\n",
    "peak_locations = np.where(doublediff == -2)[0] + 1\n",
    "peak_locations"
   ]
  },
  {
   "cell_type": "markdown",
   "metadata": {},
   "source": [
    "Subtraia a matriz 1d da matriz b_1d2d a_2d, de forma que cada item de b_1dsubtraia da respectiva linha de a_2d."
   ]
  },
  {
   "cell_type": "code",
   "execution_count": 120,
   "metadata": {},
   "outputs": [],
   "source": [
    "a_2d = np.array([[3,3,3],[4,4,4],[5,5,5]])\n",
    "b_1d = np.array([1,2,3])"
   ]
  },
  {
   "cell_type": "code",
   "execution_count": 121,
   "metadata": {},
   "outputs": [
    {
     "data": {
      "text/plain": [
       "array([[2, 2, 2],\n",
       "       [2, 2, 2],\n",
       "       [2, 2, 2]])"
      ]
     },
     "execution_count": 121,
     "metadata": {},
     "output_type": "execute_result"
    }
   ],
   "source": [
    "a_2d - b_1d[:, None]"
   ]
  },
  {
   "cell_type": "markdown",
   "metadata": {},
   "source": [
    "Encontre o índice da 5ª repetição do número 1 em x."
   ]
  },
  {
   "cell_type": "code",
   "execution_count": 122,
   "metadata": {},
   "outputs": [],
   "source": [
    "x = np.array([1, 2, 1, 1, 3, 4, 3, 1, 1, 2, 1, 1, 2])"
   ]
  },
  {
   "cell_type": "code",
   "execution_count": 123,
   "metadata": {},
   "outputs": [
    {
     "data": {
      "text/plain": [
       "8"
      ]
     },
     "execution_count": 123,
     "metadata": {},
     "output_type": "execute_result"
    }
   ],
   "source": [
    "np.argsort(x)[4]"
   ]
  }
 ],
 "metadata": {
  "kernelspec": {
   "display_name": "Python 3",
   "language": "python",
   "name": "python3"
  },
  "language_info": {
   "codemirror_mode": {
    "name": "ipython",
    "version": 3
   },
   "file_extension": ".py",
   "mimetype": "text/x-python",
   "name": "python",
   "nbconvert_exporter": "python",
   "pygments_lexer": "ipython3",
   "version": "3.7.0"
  }
 },
 "nbformat": 4,
 "nbformat_minor": 2
}
